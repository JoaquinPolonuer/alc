{
 "cells": [
  {
   "cell_type": "markdown",
   "id": "c5da0d9a",
   "metadata": {},
   "source": [
    "## Álgebra Lineal Computacional - 2C 2022\n",
    "\n",
    "\n",
    "### Cuadrados mínimos - Regresión lineal"
   ]
  },
  {
   "cell_type": "code",
   "execution_count": null,
   "id": "941baeae",
   "metadata": {},
   "outputs": [],
   "source": [
    "import numpy as np\n",
    "import matplotlib.pyplot as plt\n",
    "import pandas as pd"
   ]
  },
  {
   "cell_type": "markdown",
   "id": "3ba995d1",
   "metadata": {},
   "source": [
    "## Ejemplo \n",
    "\n",
    "Retomemos el ejercicio del martes pasado para incorporar los comandos.\n",
    "Buscamos los parámetros $v_0$ y $k$ que mejor ajustaran (en el sentido de mínimos cuadrados) la ecuación de la señal eléctrica $V(t)=v_0 e^{-\\frac{t}{k}}$ a la tabla:\n",
    "\n",
    "\n",
    "| t | 1  | 2   | 3   | 4   | 5   |\n",
    "|---|----|-----|-----|-----|-----|\n",
    "| V | 0,4| 0,25| 0,17| 0,07| 0,05|\n",
    "\n",
    "El problema viene dado por una función exponencial, por lo que linealizamos el problema tomando logaritmo. \n",
    "\n",
    "$$y=ln(V(t))=-\\frac{1}{k} t + ln(v_0) \\Longrightarrow y=a_1t+a_0$$\n",
    "y buscamos $a_1$ y $a_0$ que mejor ajustaran la nueva tabla:\n",
    "\n",
    "| t |  1    |  2     |   3    |   4    |  5     |\n",
    "|---|-------|--------|--------|--------|--------|\n",
    "| y |ln(0,4)|ln(0,25)|ln(0,17)|ln(0,07)|ln(0,05)|\n",
    "\n",
    "Lo resolvimos buscando la solución por cuadrados mínimos de  \n",
    "$$Ax=b$$  \n",
    "$$A=\\left(\\begin{matrix} 1 & 1 \\\\ 2 & 1 \\\\ 3 & 1 \\\\ 4 & 1 \\\\ 5 & 1 \\end{matrix} \\right), \\quad x=\\left(\\begin{matrix} a_1 \\\\ a_0 \\end{matrix} \\right), \\quad b=\\left(\\begin{matrix} ln(0,4) \\\\ ln(0,25) \\\\ ln(0,17) \\\\ ln(0,07) \\\\ ln(0,05) \\end{matrix} \\right)$$.\n",
    "Reveamos las tres formas de resolución planteadas:\n"
   ]
  },
  {
   "cell_type": "code",
   "execution_count": null,
   "id": "5defac88",
   "metadata": {},
   "outputs": [],
   "source": [
    "# Datos del problema\n",
    "t = np.array([1, 2, 3, 4, 5])\n",
    "v = np.array([0.4,0.25, 0.17, 0.07, 0.05])\n",
    "y=np.log(v)\n",
    "\n",
    "# Construyo A por columnas.\n",
    "unos=np.ones(len(t)) #la columna de unos\n",
    "\n",
    "#usamos np.c_[] que ya lo habíamos usado hace tiempo\n",
    "A = np.c_[t]\n",
    "A= np.c_[A,unos]  #también puede ser útil np.vstack para ir pegando vectores\n",
    "\n",
    "b = y #con los logaritmos!!!"
   ]
  },
  {
   "cell_type": "markdown",
   "id": "5ec2e252",
   "metadata": {},
   "source": [
    "### Forma 1: \n",
    "Resolver las ecuaciones normales:\n",
    "$A^TA.x=A^Tb$ "
   ]
  },
  {
   "cell_type": "code",
   "execution_count": null,
   "id": "773000a1",
   "metadata": {},
   "outputs": [],
   "source": [
    "x = np.linalg.solve(A.T@A, A.T@b)  # Obtenemos la solución del sistema\n",
    "print(x)\n",
    "y = np.poly1d(x) #reconstruye el polinomio. ATENCIÓN CON EL ORDEN DE LOS COEFICIENTES\n",
    "print(y)"
   ]
  },
  {
   "cell_type": "markdown",
   "id": "187b9fa5",
   "metadata": {},
   "source": [
    "Grafiquemos los datos junto con la solución obtenida:"
   ]
  },
  {
   "cell_type": "code",
   "execution_count": null,
   "id": "6d851558",
   "metadata": {},
   "outputs": [],
   "source": [
    "xs = np.linspace(t[0]-0.25, t[-1]+0.25, 100) #nos creamos este array auxiliar para hacer los gráficos \n",
    "\n",
    "plt.plot(xs, y(xs), c='r') #evalúo el polinomio en el array auxiliar\n",
    "plt.scatter(t, b)          #los puntos"
   ]
  },
  {
   "cell_type": "markdown",
   "id": "01ba31de",
   "metadata": {},
   "source": [
    "Recordamos que \n",
    "$$a_1=-\\frac{1}{k} \\Longrightarrow k=-\\frac{1}{a_1} \\quad \\mbox{y}\\quad a_0=ln(v_0) \\Longrightarrow v_0=e^{a_0}$$\n",
    "y llegamos al resultado de la clase \n",
    "$$V(t)=v_0 e^{-\\frac{t}{k}}$$\n",
    "Grafiquemos ahora la aproximación a la tabla original obtenida:"
   ]
  },
  {
   "cell_type": "code",
   "execution_count": null,
   "id": "dc4dd388",
   "metadata": {},
   "outputs": [],
   "source": [
    "k=-1/x[0]\n",
    "v_o=np.exp(x[1])\n",
    "V= lambda t: v_o*np.exp(-t/k) #nuestra función\n",
    "plt.plot(xs,V(xs),c='r')      \n",
    "plt.scatter(t,v)              #los datos de la tabla sin linealizar"
   ]
  },
  {
   "cell_type": "markdown",
   "id": "806a95d2",
   "metadata": {},
   "source": [
    "### Forma 2: \n",
    "#### DVS reducida\n",
    "\n",
    "Para resolver $Ax=b$ recordamos que si la DVS de $A$ es $A = \\hat{U}\\hat{\\Sigma}\\hat{V}^t$ sabemos que la solución por cuadrados mínimos que buscamos es \n",
    "$$x = A^\\dagger b$$\n",
    "Donde $A^\\dagger=\\hat{V}\\hat{\\Sigma}^{-1}\\hat{U}^t$ es la pseudo inversa de $A$."
   ]
  },
  {
   "cell_type": "code",
   "execution_count": null,
   "id": "96a83c8e",
   "metadata": {},
   "outputs": [],
   "source": [
    "x=np.linalg.pinv(A)@b  #np.linalg.pinv(A) nos la A DAGUITA!!!!\n",
    "print(x)               # se obtiene la misma solución! "
   ]
  },
  {
   "cell_type": "markdown",
   "id": "a0afb439",
   "metadata": {},
   "source": [
    "Y el ejercicio se concluye igual que antes recuperando la función $V(t)$ original."
   ]
  },
  {
   "cell_type": "markdown",
   "id": "3b448bc9",
   "metadata": {},
   "source": [
    "### Forma 3: \n",
    "\n",
    "#### Usando ``np.polyfit``\n",
    "\n",
    "Obtenemos $y$ usando ``np.polyfit`` que ya vieron en la teórica que les da el polinomio que mejor ajusta por cuadrados mínimos. \n",
    "\n",
    "Observar que en este caso no hace falta construir la matriz $A$, directamente cargamos los datos linealizados y usamos la función de Numpy:"
   ]
  },
  {
   "cell_type": "code",
   "execution_count": null,
   "id": "34d8e08f",
   "metadata": {},
   "outputs": [],
   "source": [
    "# polyfit(x, y, n) calcula el polinomio de grado n que mejor ajusta los datos (x_i, y_i) por mínimos cuadrados\n",
    "# Nos devuelve el vector de coeficientes empezando por la potencia de grado más alto\n",
    "x = np.polyfit(t, b, 1)\n",
    "print(x)               #chequeadísimo"
   ]
  },
  {
   "cell_type": "markdown",
   "id": "8c168157",
   "metadata": {},
   "source": [
    "## Ejercicio\n",
    "\n",
    "En el archivo ``emisiones_CO2.csv`` se encuentran los datos de las emisiones de $CO^2$ (en toneladas per cápita) de Argentina de 1960 a 2018. \n",
    "\n",
    "Se desea hallar la función $f$ de la forma\n",
    "$$f(x)=\\alpha_1\\cos\\left(\\dfrac{x}{18}\\right) + \\alpha_2{x}$$\n",
    "que mejor ajuste esos datos en el sentido de cuadrados mínimos.\n",
    "\n",
    "En este caso, tenemos que $f$ no es polinomial ni linealizable. \n",
    "Recordar que en general si llamamos \n",
    "\n",
    "$$f_1(x) = \\cos\\left(\\dfrac{x}{18}\\right) ,\\qquad f_2(x) = x$$\n",
    "\n",
    "buscamos $\\alpha_1$ y $\\alpha_2$ que minimicen $\\displaystyle \\sum_{i=1}^{59} |\\alpha_1 f_1(x_i) + \\alpha_2 f_2(x_i) - y_i|^2$\n",
    "\n",
    "**Como $f$ NO es un polinomio, NO podemos usar ``np.polyfit``**. Tenemos que usar alguna de las otras formas. \n",
    "\n",
    "Empezamos leyendo los datos de ``emisiones_CO2.csv``:"
   ]
  },
  {
   "cell_type": "code",
   "execution_count": null,
   "id": "1b7d9b91",
   "metadata": {},
   "outputs": [],
   "source": [
    "# Cargo los datos desde el archivo\n",
    "data_frame = pd.read_csv('emisiones_CO2.csv')\n",
    "data_frame.head(8)  #vemos los primeros 8 datos"
   ]
  },
  {
   "cell_type": "code",
   "execution_count": null,
   "id": "ff030804",
   "metadata": {},
   "outputs": [],
   "source": [
    "# Lo convierto a una matriz de numpy\n",
    "xy = data_frame.to_numpy(dtype='float')\n",
    "print(xy[:8])"
   ]
  },
  {
   "cell_type": "code",
   "execution_count": null,
   "id": "69c71da7",
   "metadata": {},
   "outputs": [],
   "source": [
    "# Graficamos los datos de la tabla. x es la primera columna de xy, y es la segunda\n",
    "x = xy[:, 0]\n",
    "y = xy[:, 1]\n",
    "\n",
    "# Visualizo los datos\n",
    "plt.scatter(x,y)"
   ]
  },
  {
   "cell_type": "markdown",
   "id": "720bac6b",
   "metadata": {},
   "source": [
    "#### a)\n",
    "Construir la matriz A y b del problema y resolver el sistema $Ax=b$ con la técnica de cuadrados mínimos:"
   ]
  },
  {
   "cell_type": "code",
   "execution_count": null,
   "id": "2764c1c1",
   "metadata": {},
   "outputs": [],
   "source": [
    "A= ###completar. Pensar qué tiene en sus columnas, para la primera columna necesitarán hacer la función cos(x/18)...\n",
    "b= ###completar\n",
    "alpha= ###solución por cad mín de Ax=b"
   ]
  },
  {
   "cell_type": "markdown",
   "id": "cbdbb77d",
   "metadata": {},
   "source": [
    "#### b)\n",
    "Graficar la función $f$ obtenida junto con los datos."
   ]
  },
  {
   "cell_type": "code",
   "execution_count": null,
   "id": "bc87a7e3",
   "metadata": {},
   "outputs": [],
   "source": [
    "xs=###completar (recordar linspace!)\n",
    "###completar!"
   ]
  },
  {
   "cell_type": "markdown",
   "id": "9226e09c",
   "metadata": {},
   "source": [
    "#### c)\n",
    "Estimar las emisiones emitidas en 2019 (el dato real es de 4,06 toneladas).\n",
    "(Recordar que la tabla tiene 58 filas) "
   ]
  },
  {
   "cell_type": "code",
   "execution_count": null,
   "id": "1dedc378",
   "metadata": {},
   "outputs": [],
   "source": [
    "###completar"
   ]
  },
  {
   "cell_type": "markdown",
   "id": "a5f789fe",
   "metadata": {},
   "source": [
    "## Ejercicio (ej. 11 P7)\n",
    "\n",
    "Implementar un programa que reciba como input una lista de funciones $\\{f_1, \\dots , f_n\\}$ y dos vectores $x= (x_1, \\dots, x_n)$, $y=(y_1, \\dots, y_n)$ y calcule la función:\n",
    "$$f=\\displaystyle\\sum_{i=1}^{n} \\alpha_if_i(x)$$\n",
    "que mejor aproxima los datos en el sentido de cuadrados mínimos."
   ]
  },
  {
   "cell_type": "code",
   "execution_count": null,
   "id": "c3e318cd",
   "metadata": {},
   "outputs": [],
   "source": [
    "def cuad_min(funciones,x,y):\n",
    "    At = []                # Acá voy a armar la matriz A por filas, luego debo transponerla\n",
    "    for f in funciones:\n",
    "        filai=f(x)\n",
    "        At.append(filai)\n",
    "    \n",
    "    A =  (np.array(At)).T     # At es una lista de listas. La convierto en array y luego transpongo\n",
    "    \n",
    "    alpha = np.linalg.pinv(A)@y # Resuelvo Ax = b\n",
    "    \n",
    "    f = lambda x: sum([alpha[i]*funciones[i](x) for i in range(len(funciones))]) # Armo f como combinación lineal de las fi\n",
    "    \n",
    "    return(alpha,f) # Además de la función devuelvo los coeficientes, para poder tenerlos a mano"
   ]
  },
  {
   "cell_type": "markdown",
   "id": "bb04acda",
   "metadata": {},
   "source": [
    "probemos nuestro programa con el ejercicio anterior:"
   ]
  },
  {
   "cell_type": "code",
   "execution_count": null,
   "id": "19e89370",
   "metadata": {},
   "outputs": [],
   "source": [
    "f1= lambda t: np.cos(t/18)\n",
    "f2= lambda t: t\n",
    "f=[f1,f2]\n",
    "\n",
    "print(cuad_min(f,x,y)[0])\n",
    "\n",
    "print(cuad_min(f,x,y)[1](0)) #evalúo la función construida en t=0 para verificar"
   ]
  }
 ],
 "metadata": {
  "kernelspec": {
   "display_name": "Python 3 (ipykernel)",
   "language": "python",
   "name": "python3"
  },
  "language_info": {
   "codemirror_mode": {
    "name": "ipython",
    "version": 3
   },
   "file_extension": ".py",
   "mimetype": "text/x-python",
   "name": "python",
   "nbconvert_exporter": "python",
   "pygments_lexer": "ipython3",
   "version": "3.9.12"
  }
 },
 "nbformat": 4,
 "nbformat_minor": 5
}
