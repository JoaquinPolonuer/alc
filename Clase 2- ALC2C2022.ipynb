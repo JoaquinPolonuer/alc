{
 "cells": [
  {
   "cell_type": "markdown",
   "id": "65738c9b",
   "metadata": {},
   "source": [
    "## Álgebra Lineal Computacional - 2C 2022\n",
    "\n",
    "\n",
    "### Arrays\n",
    "\n",
    "Seguimos trabajando con matrices, veremos algunas funciones más, de Python y de Numpy en particular, para luego usar algunos comandos como **for** e **if**.\n"
   ]
  },
  {
   "cell_type": "markdown",
   "id": "fbc91f73",
   "metadata": {},
   "source": [
    "Importemos Numpy e ingresemos las matrices $$A = \\begin{pmatrix} 0 & 1 & 2 \\\\ -3 & -4 & -5 \\\\ 6 & 7 & 8 \\end{pmatrix} \\quad B= \\begin{pmatrix} 1 & 0 \\\\ 0 & -1 \\\\ 2 & 3 \\end{pmatrix}$$\n",
    "para aplicarles algunas funciones:"
   ]
  },
  {
   "cell_type": "code",
   "execution_count": 1,
   "id": "491015bf",
   "metadata": {},
   "outputs": [
    {
     "name": "stdout",
     "output_type": "stream",
     "text": [
      "[[ 0  1  2]\n",
      " [-3 -4 -5]\n",
      " [ 6  7  8]]\n",
      "[[ 1  0]\n",
      " [ 0 -1]\n",
      " [ 2  3]]\n"
     ]
    }
   ],
   "source": [
    "import numpy as np\n",
    "A=np.array([[0,1,2],[-3,-4,-5], [6,7,8]])\n",
    "B=np.array([[1,0], [0,-1], [2,3]])\n",
    "print(A)\n",
    "print(B)"
   ]
  },
  {
   "cell_type": "markdown",
   "id": "a2f85784",
   "metadata": {},
   "source": [
    "### Transpuesta de una matriz\n",
    "\n",
    "Si $A\\in \\mathbb{K}^{m\\times n}$ la matriz transpuesta de $A$ es la matriz $A^t \\in \\mathbb{K}^{n\\times m}$ que tiene por filas a las culumnas de $A$. \n",
    "\n",
    "$(A^t)_{ij}=a_{ji} \\quad \\forall 1\\leq i\\leq n, 1\\leq j \\leq m$.\n",
    "\n",
    "La transpuesta de una matriz la calculamos agregando \".T\" a la matriz. Calculemos $ A^t $ y $ (A.B)^t $. \n",
    "\n",
    "Recordar que multiplicamos matrices con \"@\"."
   ]
  },
  {
   "cell_type": "code",
   "execution_count": 2,
   "id": "ff69f2d0",
   "metadata": {},
   "outputs": [
    {
     "name": "stdout",
     "output_type": "stream",
     "text": [
      "[[ 0 -3  6]\n",
      " [ 1 -4  7]\n",
      " [ 2 -5  8]]\n",
      "[[  4 -13  22]\n",
      " [  5 -11  17]]\n"
     ]
    }
   ],
   "source": [
    "At=A.T\n",
    "ABt=(A@B).T\n",
    "print(At)\n",
    "print(ABt)"
   ]
  },
  {
   "cell_type": "markdown",
   "id": "a6be208c",
   "metadata": {},
   "source": [
    "### Lugares de una matriz\n",
    "\n",
    "En el ejercicio 3 de la práctica 1 practicaron cómo acceder a los distintos elementos de una matriz.\n",
    "\n",
    "**IMPORTANTE: los índices en Python empiezan en 0**\n",
    "\n",
    "Por ejemplo, para acceder al coeficiente $a_{i,j}$ de una matriz $A$ escribimos $A[i-1,j-1]$. \n",
    "\n",
    "Para acceder a una fila de $A$ usamos los dos puntos \":\" que indican \"todo\". Por ejemplo, si queremos la fila $i$ de $A$ escribimos $A[i-1,:]$.\n",
    "\n",
    "## Ejercicio\n",
    "\n",
    "Calcular los siguientes elementos:\n",
    "$a_{2,3}$, la fila 3 de $A$, la columna 1 de $A.B$, $(B^t)_{1,3}$"
   ]
  },
  {
   "cell_type": "code",
   "execution_count": 7,
   "id": "bbf48490",
   "metadata": {},
   "outputs": [
    {
     "data": {
      "text/plain": [
       "array([[  4,   5],\n",
       "       [-13, -11],\n",
       "       [ 22,  17]])"
      ]
     },
     "execution_count": 7,
     "metadata": {},
     "output_type": "execute_result"
    }
   ],
   "source": [
    "A@B"
   ]
  },
  {
   "cell_type": "code",
   "execution_count": 5,
   "id": "eb3bd462",
   "metadata": {},
   "outputs": [
    {
     "name": "stdout",
     "output_type": "stream",
     "text": [
      "-5\n",
      "[6 7 8]\n",
      "[  4 -13  22]\n",
      "2\n"
     ]
    }
   ],
   "source": [
    "A23=A[1,2]\n",
    "f3A=A[2,:]\n",
    "c1AB=(A@B)[:,0]\n",
    "Bt13=B.T[0,2]\n",
    "print(A23)\n",
    "print(f3A)\n",
    "print(c1AB)\n",
    "print(Bt13)"
   ]
  },
  {
   "cell_type": "markdown",
   "id": "f54d0538",
   "metadata": {},
   "source": [
    "### Inversa y determinante\n",
    "\n",
    "El determinante es una función que se aplica a matrices **cuadradas** y devuelve por resultado un escalar.\n",
    "$$A\\in\\mathbb{K}^{n\\times n}, \\quad det(A)\\in\\mathbb{K}$$\n",
    "Esta función determina si una matriz cuadrada es inversible o no. Recordar que $A \\in \\mathbb{K}^{n\\times n}$ es inversible $\\iff \\quad det(A)\\neq 0$\n",
    "\n",
    "Ambas funciones están en Numpy dentro del paquete \"linalg\". Por ejemplo:"
   ]
  },
  {
   "cell_type": "code",
   "execution_count": 9,
   "id": "43b93d40",
   "metadata": {},
   "outputs": [
    {
     "data": {
      "text/plain": [
       "0.0"
      ]
     },
     "execution_count": 9,
     "metadata": {},
     "output_type": "execute_result"
    }
   ],
   "source": [
    "d=np.linalg.det(A) #¿Es A inversible?\n",
    "d \n",
    "#Entocnes A no es inversible"
   ]
  },
  {
   "cell_type": "code",
   "execution_count": 10,
   "id": "43a5bc0b",
   "metadata": {},
   "outputs": [
    {
     "ename": "LinAlgError",
     "evalue": "Singular matrix",
     "output_type": "error",
     "traceback": [
      "\u001b[0;31m---------------------------------------------------------------------------\u001b[0m",
      "\u001b[0;31mLinAlgError\u001b[0m                               Traceback (most recent call last)",
      "Input \u001b[0;32mIn [10]\u001b[0m, in \u001b[0;36m<cell line: 1>\u001b[0;34m()\u001b[0m\n\u001b[0;32m----> 1\u001b[0m Ainv\u001b[38;5;241m=\u001b[39m\u001b[43mnp\u001b[49m\u001b[38;5;241;43m.\u001b[39;49m\u001b[43mlinalg\u001b[49m\u001b[38;5;241;43m.\u001b[39;49m\u001b[43minv\u001b[49m\u001b[43m(\u001b[49m\u001b[43mA\u001b[49m\u001b[43m)\u001b[49m \u001b[38;5;66;03m#Cuando la matriz no es inversible, se dice que es \"singular\"\u001b[39;00m\n\u001b[1;32m      2\u001b[0m Ainv\n",
      "File \u001b[0;32m<__array_function__ internals>:180\u001b[0m, in \u001b[0;36minv\u001b[0;34m(*args, **kwargs)\u001b[0m\n",
      "File \u001b[0;32m~/Documents/exactas/alc/venv/lib/python3.8/site-packages/numpy/linalg/linalg.py:552\u001b[0m, in \u001b[0;36minv\u001b[0;34m(a)\u001b[0m\n\u001b[1;32m    550\u001b[0m signature \u001b[38;5;241m=\u001b[39m \u001b[38;5;124m'\u001b[39m\u001b[38;5;124mD->D\u001b[39m\u001b[38;5;124m'\u001b[39m \u001b[38;5;28;01mif\u001b[39;00m isComplexType(t) \u001b[38;5;28;01melse\u001b[39;00m \u001b[38;5;124m'\u001b[39m\u001b[38;5;124md->d\u001b[39m\u001b[38;5;124m'\u001b[39m\n\u001b[1;32m    551\u001b[0m extobj \u001b[38;5;241m=\u001b[39m get_linalg_error_extobj(_raise_linalgerror_singular)\n\u001b[0;32m--> 552\u001b[0m ainv \u001b[38;5;241m=\u001b[39m \u001b[43m_umath_linalg\u001b[49m\u001b[38;5;241;43m.\u001b[39;49m\u001b[43minv\u001b[49m\u001b[43m(\u001b[49m\u001b[43ma\u001b[49m\u001b[43m,\u001b[49m\u001b[43m \u001b[49m\u001b[43msignature\u001b[49m\u001b[38;5;241;43m=\u001b[39;49m\u001b[43msignature\u001b[49m\u001b[43m,\u001b[49m\u001b[43m \u001b[49m\u001b[43mextobj\u001b[49m\u001b[38;5;241;43m=\u001b[39;49m\u001b[43mextobj\u001b[49m\u001b[43m)\u001b[49m\n\u001b[1;32m    553\u001b[0m \u001b[38;5;28;01mreturn\u001b[39;00m wrap(ainv\u001b[38;5;241m.\u001b[39mastype(result_t, copy\u001b[38;5;241m=\u001b[39m\u001b[38;5;28;01mFalse\u001b[39;00m))\n",
      "File \u001b[0;32m~/Documents/exactas/alc/venv/lib/python3.8/site-packages/numpy/linalg/linalg.py:89\u001b[0m, in \u001b[0;36m_raise_linalgerror_singular\u001b[0;34m(err, flag)\u001b[0m\n\u001b[1;32m     88\u001b[0m \u001b[38;5;28;01mdef\u001b[39;00m \u001b[38;5;21m_raise_linalgerror_singular\u001b[39m(err, flag):\n\u001b[0;32m---> 89\u001b[0m     \u001b[38;5;28;01mraise\u001b[39;00m LinAlgError(\u001b[38;5;124m\"\u001b[39m\u001b[38;5;124mSingular matrix\u001b[39m\u001b[38;5;124m\"\u001b[39m)\n",
      "\u001b[0;31mLinAlgError\u001b[0m: Singular matrix"
     ]
    }
   ],
   "source": [
    "Ainv=np.linalg.inv(A) #Cuando la matriz no es inversible, se dice que es \"singular\"\n",
    "Ainv"
   ]
  },
  {
   "cell_type": "code",
   "execution_count": 11,
   "id": "e1a2bbe4",
   "metadata": {},
   "outputs": [
    {
     "ename": "LinAlgError",
     "evalue": "Last 2 dimensions of the array must be square",
     "output_type": "error",
     "traceback": [
      "\u001b[0;31m---------------------------------------------------------------------------\u001b[0m",
      "\u001b[0;31mLinAlgError\u001b[0m                               Traceback (most recent call last)",
      "Input \u001b[0;32mIn [11]\u001b[0m, in \u001b[0;36m<cell line: 1>\u001b[0;34m()\u001b[0m\n\u001b[0;32m----> 1\u001b[0m Binv\u001b[38;5;241m=\u001b[39m\u001b[43mnp\u001b[49m\u001b[38;5;241;43m.\u001b[39;49m\u001b[43mlinalg\u001b[49m\u001b[38;5;241;43m.\u001b[39;49m\u001b[43mdet\u001b[49m\u001b[43m(\u001b[49m\u001b[43mB\u001b[49m\u001b[43m)\u001b[49m\n",
      "File \u001b[0;32m<__array_function__ internals>:180\u001b[0m, in \u001b[0;36mdet\u001b[0;34m(*args, **kwargs)\u001b[0m\n",
      "File \u001b[0;32m~/Documents/exactas/alc/venv/lib/python3.8/site-packages/numpy/linalg/linalg.py:2151\u001b[0m, in \u001b[0;36mdet\u001b[0;34m(a)\u001b[0m\n\u001b[1;32m   2149\u001b[0m a \u001b[38;5;241m=\u001b[39m asarray(a)\n\u001b[1;32m   2150\u001b[0m _assert_stacked_2d(a)\n\u001b[0;32m-> 2151\u001b[0m \u001b[43m_assert_stacked_square\u001b[49m\u001b[43m(\u001b[49m\u001b[43ma\u001b[49m\u001b[43m)\u001b[49m\n\u001b[1;32m   2152\u001b[0m t, result_t \u001b[38;5;241m=\u001b[39m _commonType(a)\n\u001b[1;32m   2153\u001b[0m signature \u001b[38;5;241m=\u001b[39m \u001b[38;5;124m'\u001b[39m\u001b[38;5;124mD->D\u001b[39m\u001b[38;5;124m'\u001b[39m \u001b[38;5;28;01mif\u001b[39;00m isComplexType(t) \u001b[38;5;28;01melse\u001b[39;00m \u001b[38;5;124m'\u001b[39m\u001b[38;5;124md->d\u001b[39m\u001b[38;5;124m'\u001b[39m\n",
      "File \u001b[0;32m~/Documents/exactas/alc/venv/lib/python3.8/site-packages/numpy/linalg/linalg.py:204\u001b[0m, in \u001b[0;36m_assert_stacked_square\u001b[0;34m(*arrays)\u001b[0m\n\u001b[1;32m    202\u001b[0m m, n \u001b[38;5;241m=\u001b[39m a\u001b[38;5;241m.\u001b[39mshape[\u001b[38;5;241m-\u001b[39m\u001b[38;5;241m2\u001b[39m:]\n\u001b[1;32m    203\u001b[0m \u001b[38;5;28;01mif\u001b[39;00m m \u001b[38;5;241m!=\u001b[39m n:\n\u001b[0;32m--> 204\u001b[0m     \u001b[38;5;28;01mraise\u001b[39;00m LinAlgError(\u001b[38;5;124m'\u001b[39m\u001b[38;5;124mLast 2 dimensions of the array must be square\u001b[39m\u001b[38;5;124m'\u001b[39m)\n",
      "\u001b[0;31mLinAlgError\u001b[0m: Last 2 dimensions of the array must be square"
     ]
    }
   ],
   "source": [
    "Binv=np.linalg.det(B) #si la matriz no es cuadrada salta un error"
   ]
  },
  {
   "cell_type": "markdown",
   "id": "3bcdd305",
   "metadata": {},
   "source": [
    "### Funciones útiles y ciclos for:\n",
    "\n",
    "Nos será útil en esta materia la función \"range\" para indicar rangos de valores para nuestras variables.\n",
    "Por ejemplo"
   ]
  },
  {
   "cell_type": "code",
   "execution_count": 12,
   "id": "358477a1",
   "metadata": {},
   "outputs": [
    {
     "name": "stdout",
     "output_type": "stream",
     "text": [
      "0\n",
      "1\n",
      "2\n",
      "3\n",
      "4\n",
      "5\n",
      "6\n",
      "7\n",
      "8\n",
      "9\n",
      "Terminé\n"
     ]
    }
   ],
   "source": [
    "for i in range(10): \n",
    "    print(i)\n",
    "print(\"Terminé\") #Prestar atención a la indentación"
   ]
  },
  {
   "cell_type": "code",
   "execution_count": 13,
   "id": "88f465a8",
   "metadata": {},
   "outputs": [
    {
     "name": "stdout",
     "output_type": "stream",
     "text": [
      "1\n",
      "2\n",
      "3\n",
      "4\n"
     ]
    }
   ],
   "source": [
    "for i in range(1,5):\n",
    "    print(i)"
   ]
  },
  {
   "cell_type": "code",
   "execution_count": 14,
   "id": "16cf533b",
   "metadata": {},
   "outputs": [
    {
     "name": "stdout",
     "output_type": "stream",
     "text": [
      "3\n",
      "5\n",
      "7\n",
      "9\n",
      "11\n",
      "13\n"
     ]
    }
   ],
   "source": [
    "# Va de 2 en 2\n",
    "for i in range(3,15,2):\n",
    "    print(i)"
   ]
  },
  {
   "cell_type": "markdown",
   "id": "40537b49",
   "metadata": {},
   "source": [
    "Calculemos ahora su suma. Por ejemplo, para sumar los números naturales del 1 al 10 inclusive.\n",
    "$$\n",
    "\\sum_{i=0}^{10} i\n",
    "$$\n",
    "Hacemos:"
   ]
  },
  {
   "cell_type": "code",
   "execution_count": 15,
   "id": "a1a7d1bf",
   "metadata": {},
   "outputs": [
    {
     "name": "stdout",
     "output_type": "stream",
     "text": [
      "Suma:  55\n"
     ]
    }
   ],
   "source": [
    "suma = 0\n",
    "for i in range(0, 11):\n",
    "    suma = suma + i\n",
    "print(\"Suma: \", suma)"
   ]
  },
  {
   "cell_type": "markdown",
   "id": "0d52ef20",
   "metadata": {},
   "source": [
    "## Ejercicio: \n",
    "Sumar los cuadrados de los números naturalesdel 5 al 1000 inclusive.\n",
    "$$\n",
    "\\sum_{i=5}^{1000} i^2\n",
    "$$\n",
    "**Resultado**=333833470"
   ]
  },
  {
   "cell_type": "code",
   "execution_count": 17,
   "id": "5b5f7a11",
   "metadata": {},
   "outputs": [
    {
     "name": "stdout",
     "output_type": "stream",
     "text": [
      "Suma:  333833470\n"
     ]
    }
   ],
   "source": [
    "suma = 0\n",
    "for i in range(5, 1001):\n",
    "    suma = suma + i*i\n",
    "print(\"Suma: \", suma)"
   ]
  },
  {
   "cell_type": "markdown",
   "id": "4d8ad599",
   "metadata": {},
   "source": [
    "### Sumar lugares de una matriz\n",
    "Los elementos de la fila $i$ de una matriz $A \\in \\mathbb{K}^{m\\times n}$ son $F_i=(a_{i1} \\, a_{i2} \\, \\ldots \\, a_{in})$, cuya suma $a_{i1}+a_{i2}+ \\ldots + a_{in}$ se puede escribir usando una sumatoria:\n",
    "$$S_i=\\sum_{j=1}^{n}a_{ij}$$\n",
    "Si queremos sumar **todos** los elementos de una matriz podemos sumar los resultados de las $m$ filas $S_1+S_2+ \\ldots + S_m = \\sum_{i=1}^{m} S_i$, quedando una doble sumatoria:\n",
    "$$S=\\sum_{i=1}^{m} \\sum_{j=1}^{n}a_{ij}$$"
   ]
  },
  {
   "cell_type": "markdown",
   "id": "1c4c4e3d",
   "metadata": {},
   "source": [
    "## Ejercicio\n",
    "\n",
    "Usar un ciclo for para calcular:\n",
    "\n",
    "**a)** La suma de los elementos de la segunda fila de $A$. \n",
    "\n",
    "_La función **np.sum()** realiza la suma, la podemos usar para verificar nuestro resultado._\n",
    "\n",
    "**b)** La traza de la matriz $A$, que es la suma de los elementos de la diagonal principal $tr(A)=\\sum_{i=1}^n a_{ii}$.\n",
    "\n",
    "_La función **np.trace()** realiza la suma, la podemos usar para verificar nuestro resultado._\n",
    "\n",
    "**c)** La suma de todos los elementos de la matriz $B$ (vamos a necesitar dos ciclos, uno por cada sumatoria).\n",
    "\n",
    "_La función **np.sum()** realiza la suma, la podemos usar para verificar nuestro resultado._\n"
   ]
  },
  {
   "cell_type": "code",
   "execution_count": 29,
   "id": "13c8e970",
   "metadata": {},
   "outputs": [
    {
     "name": "stdout",
     "output_type": "stream",
     "text": [
      "Suma: 3 3\n",
      "Traza: 4 4\n",
      "Suma: 12 12\n"
     ]
    }
   ],
   "source": [
    "#a)\n",
    "i = 0\n",
    "suma = 0\n",
    "for aij in A[i]:\n",
    "    suma += aij\n",
    "print(\"Suma:\", suma, np.sum(A[i]))\n",
    "\n",
    "#b)\n",
    "i = 0\n",
    "traza = 0\n",
    "for i in range(len(A)):\n",
    "    traza += A[i, i]\n",
    "print(\"Traza:\", traza, np.trace(A))\n",
    "\n",
    "#c)\n",
    "suma = 0\n",
    "for row in A:\n",
    "    for aij in row:\n",
    "        suma += aij\n",
    "print(\"Suma:\", suma, np.sum(A))"
   ]
  },
  {
   "cell_type": "markdown",
   "id": "44472f8f",
   "metadata": {},
   "source": [
    "### Obs: \n",
    "La función **\"len()\"** de python puede ser útil por ejemplo para el ítem b). La función calcula la cantidad de elementos de una objeto. Por ejemplo, "
   ]
  },
  {
   "cell_type": "code",
   "execution_count": 30,
   "id": "db58f831",
   "metadata": {},
   "outputs": [
    {
     "data": {
      "text/plain": [
       "4"
      ]
     },
     "execution_count": 30,
     "metadata": {},
     "output_type": "execute_result"
    }
   ],
   "source": [
    "l=len([1,0,-3,2])\n",
    "l"
   ]
  },
  {
   "cell_type": "markdown",
   "id": "f6a77517",
   "metadata": {},
   "source": [
    "Como las matrices las ingresamos como un conjunto de filas, la función len me devolverá la cantidad de filas de la matriz. Por ejemplo,"
   ]
  },
  {
   "cell_type": "code",
   "execution_count": 31,
   "id": "34798696",
   "metadata": {},
   "outputs": [
    {
     "name": "stdout",
     "output_type": "stream",
     "text": [
      "0\n",
      "-4\n",
      "8\n"
     ]
    }
   ],
   "source": [
    "for i in range(len(A)):\n",
    "    print (A[i,i])  #¿Qué pasa si se lo aplicamos a la matriz B?"
   ]
  },
  {
   "cell_type": "markdown",
   "id": "85fb82c6",
   "metadata": {},
   "source": [
    "Y como última observación, puede ser útil también en este caso, la función **\"np.diag()\"** que devuelve un vector con la diagonal principal de la matriz."
   ]
  },
  {
   "cell_type": "code",
   "execution_count": 33,
   "id": "ff5d97d3",
   "metadata": {},
   "outputs": [
    {
     "name": "stdout",
     "output_type": "stream",
     "text": [
      "[[ 0  1  2]\n",
      " [-3 -4 -5]\n",
      " [ 6  7  8]]\n",
      "[ 0 -4  8]\n",
      "[ 1 -1]\n"
     ]
    }
   ],
   "source": [
    "print(A)\n",
    "dA=np.diag(A)\n",
    "dB=np.diag(B)\n",
    "print(dA)\n",
    "print(dB)"
   ]
  },
  {
   "cell_type": "markdown",
   "id": "62e4aa69",
   "metadata": {},
   "source": [
    "Veamos algunos ejemplos con **if**:"
   ]
  },
  {
   "cell_type": "code",
   "execution_count": 34,
   "id": "b859c590",
   "metadata": {},
   "outputs": [
    {
     "name": "stdout",
     "output_type": "stream",
     "text": [
      "15  es mayor que  5\n"
     ]
    }
   ],
   "source": [
    "a = 15\n",
    "b = 5\n",
    "if(a>b):\n",
    "    print(a, \" es mayor que \", b)"
   ]
  },
  {
   "cell_type": "code",
   "execution_count": 35,
   "id": "8d367541",
   "metadata": {},
   "outputs": [
    {
     "name": "stdout",
     "output_type": "stream",
     "text": [
      "15  es mayor que  5\n"
     ]
    }
   ],
   "source": [
    "# if - else\n",
    "a = 15\n",
    "b = 5\n",
    "if(a>b):\n",
    "    print(a, \" es mayor que \", b)\n",
    "else:\n",
    "    print(a, \" no es mayor que \", b)"
   ]
  },
  {
   "cell_type": "code",
   "execution_count": 36,
   "id": "de870bc1",
   "metadata": {},
   "outputs": [
    {
     "name": "stdout",
     "output_type": "stream",
     "text": [
      "5  es igual a  5\n"
     ]
    }
   ],
   "source": [
    "# if - elif - else\n",
    "a = 5\n",
    "b = 5\n",
    "if(a>b):\n",
    "    print(a, \" es mayor que \", b)\n",
    "elif (b>a):\n",
    "    print(b, \" es mayor que \", a)\n",
    "else:\n",
    "    print(a, \" es igual a \", b)"
   ]
  },
  {
   "cell_type": "markdown",
   "id": "49a88396",
   "metadata": {},
   "source": [
    "## Ejercicios\n",
    "\n",
    "**a)** Calcular la suma de los elementos arriba de la diagonal de $A$, o sea, calcular $$\\sum_{i=1}^{m}\\sum_{j>i}a_{ij}$$\n",
    "**b)** Calcular el producto de los elementos no nulos de la matriz $A$."
   ]
  },
  {
   "cell_type": "code",
   "execution_count": 49,
   "id": "e9b2c914",
   "metadata": {},
   "outputs": [
    {
     "name": "stdout",
     "output_type": "stream",
     "text": [
      "-2\n",
      "-40320\n"
     ]
    },
    {
     "data": {
      "text/plain": [
       "array([[ 0,  1,  2],\n",
       "       [-3, -4, -5],\n",
       "       [ 6,  7,  8]])"
      ]
     },
     "execution_count": 49,
     "metadata": {},
     "output_type": "execute_result"
    }
   ],
   "source": [
    "suma_arriba_diag = 0\n",
    "for i in range(len(A)):\n",
    "    for j in range(i+1, len(A)):\n",
    "        suma_arriba_diag += A[i, j]\n",
    "print(suma_arriba_diag)\n",
    "\n",
    "prod = 1\n",
    "for row in A:\n",
    "    for aij in row:\n",
    "        if aij != 0:\n",
    "            prod*=aij\n",
    "print(prod)\n",
    "A\n"
   ]
  },
  {
   "cell_type": "markdown",
   "id": "257a301a",
   "metadata": {},
   "source": [
    "### Definir funciones\n",
    "\n",
    "Por último, definamos algunas funciones. **¡¡En los \"videos preliminares\" en el campus tienen más detalles!!**\n",
    "\n",
    "Por ejemplo:"
   ]
  },
  {
   "cell_type": "code",
   "execution_count": 50,
   "id": "a345d8f8",
   "metadata": {},
   "outputs": [],
   "source": [
    "def suma(a,b):\n",
    "    c = a + b\n",
    "    return(c)"
   ]
  },
  {
   "cell_type": "code",
   "execution_count": 51,
   "id": "a5ce947c",
   "metadata": {},
   "outputs": [
    {
     "data": {
      "text/plain": [
       "15"
      ]
     },
     "execution_count": 51,
     "metadata": {},
     "output_type": "execute_result"
    }
   ],
   "source": [
    "suma(3,12)"
   ]
  },
  {
   "cell_type": "markdown",
   "id": "4461a844",
   "metadata": {},
   "source": [
    "Otro ejemplo:"
   ]
  },
  {
   "cell_type": "code",
   "execution_count": 52,
   "id": "7654a00c",
   "metadata": {},
   "outputs": [],
   "source": [
    "def comparar(a, b):\n",
    "    if(a>b):\n",
    "        print(a, \" es mayor que \", b)\n",
    "    elif (b>a):\n",
    "        print(b, \" es mayor que \", a)\n",
    "    else:\n",
    "        print(a, \" es igual a \", b)"
   ]
  },
  {
   "cell_type": "code",
   "execution_count": 53,
   "id": "54460c77",
   "metadata": {},
   "outputs": [
    {
     "name": "stdout",
     "output_type": "stream",
     "text": [
      "12  es mayor que  3\n"
     ]
    }
   ],
   "source": [
    "comparar(3,12)"
   ]
  },
  {
   "cell_type": "markdown",
   "id": "89cfb375",
   "metadata": {},
   "source": [
    "## Ejercicios\n",
    "\n",
    "**a)** Realizar el Ejercicio 14 de la Práctica 1.\n",
    "\n",
    "**b)** Escribir un programa que reciba un vector $v$ en $R^n$ y devuelva cuántas coordenadas de $v$ son mayores que 5.\n",
    "\n",
    "_Obs: Recordar que puede ser útil la función \"len\" a la hora de usar \"range\" para recorrer todas las componentes de una lista."
   ]
  },
  {
   "cell_type": "code",
   "execution_count": null,
   "id": "2bce8878",
   "metadata": {},
   "outputs": [],
   "source": [
    "#completar"
   ]
  }
 ],
 "metadata": {
  "kernelspec": {
   "display_name": "Python 3 (ipykernel)",
   "language": "python",
   "name": "python3"
  },
  "language_info": {
   "codemirror_mode": {
    "name": "ipython",
    "version": 3
   },
   "file_extension": ".py",
   "mimetype": "text/x-python",
   "name": "python",
   "nbconvert_exporter": "python",
   "pygments_lexer": "ipython3",
   "version": "3.8.10"
  },
  "vscode": {
   "interpreter": {
    "hash": "f9bfcf9b5caac7d20bec971624347978e07e0805f5251008385ed42caeb5807a"
   }
  }
 },
 "nbformat": 4,
 "nbformat_minor": 5
}
