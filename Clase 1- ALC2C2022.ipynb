{
 "cells": [
  {
   "cell_type": "markdown",
   "id": "7a991d82",
   "metadata": {},
   "source": [
    "## Álgebra Lineal Computacional - 2C 2022\n",
    "\n",
    "# Librería Numpy\n",
    "\n",
    "### Arrays\n",
    "\n",
    "En ALC vamos a trabajar sobre todo con _**arrays**_ que nos van a servir para representar vectores o matrices. Para crear arrays es necesario utilizar el módulo **numpy**\n"
   ]
  },
  {
   "cell_type": "code",
   "execution_count": 1,
   "id": "bdabe68d",
   "metadata": {},
   "outputs": [
    {
     "name": "stdout",
     "output_type": "stream",
     "text": [
      "[ 1  0 -1]\n"
     ]
    }
   ],
   "source": [
    "import numpy as np #importa el módulo numpy, con el alias np\n",
    "v  = np.array([1,0,-1]) #genera un array v, con los elementos 1,0 y -1.\n",
    "print(v)"
   ]
  },
  {
   "cell_type": "markdown",
   "id": "371f25c8",
   "metadata": {},
   "source": [
    "$v$ parece una lista, pero en realidad es un array creado a partir de una lista. Esto permite realizar distintas operaciones. Por ejemplo:"
   ]
  },
  {
   "cell_type": "code",
   "execution_count": 2,
   "id": "7d09fbbb",
   "metadata": {},
   "outputs": [
    {
     "name": "stdout",
     "output_type": "stream",
     "text": [
      "w1 = [4 1 1]\n",
      "w2 = [ 3  0 -2]\n",
      "w3 = 1\n"
     ]
    }
   ],
   "source": [
    "u  = np.array([3,1,2])\n",
    "w1 = u+v #suma casillero a casillero\n",
    "w2 = u*v #multiplica casillero a casillero\n",
    "w3 = u@v #realiza el producto interno o escalar\n",
    "print('w1 =',w1)\n",
    "print('w2 =',w2)\n",
    "print('w3 =',w3)"
   ]
  },
  {
   "cell_type": "markdown",
   "id": "0bc6f689",
   "metadata": {},
   "source": [
    "De manera similar se pueden crear matrices, observen que se lista de a filas:"
   ]
  },
  {
   "cell_type": "code",
   "execution_count": 3,
   "id": "def03204",
   "metadata": {},
   "outputs": [
    {
     "name": "stdout",
     "output_type": "stream",
     "text": [
      "[[1 2 3]\n",
      " [4 5 6]]\n"
     ]
    }
   ],
   "source": [
    "A = np.array([[1,2,3],[4,5,6]])\n",
    "print(A)"
   ]
  },
  {
   "cell_type": "markdown",
   "id": "611fedbb",
   "metadata": {},
   "source": [
    "Para conocer la forma de un array, se puede usar el comando $shape$:"
   ]
  },
  {
   "cell_type": "code",
   "execution_count": 4,
   "id": "181c169a",
   "metadata": {},
   "outputs": [
    {
     "name": "stdout",
     "output_type": "stream",
     "text": [
      "(2, 3)\n"
     ]
    }
   ],
   "source": [
    "print(A.shape)"
   ]
  },
  {
   "cell_type": "markdown",
   "id": "91deb218",
   "metadata": {},
   "source": [
    "### Tuplas\n",
    "El comando $shape$ devuelve una **tupla**. Una tupla es similar a una lista: puede contener varios valores, ordenados, y se puede acceder a ellos usando corchetes e índices. Una tupla va encerrada entre paréntesis. Sus elementos no se pueden modificar individualmente.\n",
    "\n",
    "De este modo: A.shape[0] devuelve el número de filas, y A.shape[1] el número de columnas."
   ]
  },
  {
   "cell_type": "code",
   "execution_count": 5,
   "id": "154ed3f3",
   "metadata": {},
   "outputs": [
    {
     "name": "stdout",
     "output_type": "stream",
     "text": [
      "2\n",
      "3\n"
     ]
    }
   ],
   "source": [
    "print(A.shape[0])\n",
    "print(A.shape[1])"
   ]
  },
  {
   "cell_type": "markdown",
   "id": "2c9a62fd",
   "metadata": {},
   "source": [
    "De manera similar:"
   ]
  },
  {
   "cell_type": "code",
   "execution_count": 6,
   "id": "cf89d40d",
   "metadata": {},
   "outputs": [
    {
     "name": "stdout",
     "output_type": "stream",
     "text": [
      "Tam: (2, 3)\n",
      "#filas: 2\n",
      "#cols: 3\n"
     ]
    }
   ],
   "source": [
    "tam = A.shape\n",
    "print('Tam:',tam)\n",
    "print('#filas:',tam[0])\n",
    "print('#cols:',tam[1])"
   ]
  },
  {
   "cell_type": "markdown",
   "id": "e5f42869",
   "metadata": {},
   "source": [
    "### Ejercicio:\n",
    "Definir las siguientes matrices y realizar, de ser posible, las operaciones indicadas:\n",
    "$$A = \\begin{pmatrix} 3 & 2 & 2 \\\\ -1 & 0 & 1 \\\\ -2 & 2 & 4 \\end{pmatrix} \\quad \n",
    "B=\\begin{pmatrix} 0 & 1 & -1 \\\\ 5 & -2 & 1 \\end{pmatrix} \\quad v = (-1, 2, 1)$$\n",
    "Calcular $A.v$ y $B.A$ ¿Qué tamaño tiene B.A?"
   ]
  },
  {
   "cell_type": "code",
   "execution_count": 27,
   "id": "01064a7d",
   "metadata": {},
   "outputs": [
    {
     "name": "stdout",
     "output_type": "stream",
     "text": [
      "\n",
      "\n",
      "el tamaño de B.A es:\n"
     ]
    },
    {
     "data": {
      "text/plain": [
       "(None,)"
      ]
     },
     "execution_count": 27,
     "metadata": {},
     "output_type": "execute_result"
    }
   ],
   "source": [
    "A=np.array([[3,2,2],[-1,0,1],[-2,2,4]])\n",
    "B=0\n",
    "v=np.array([-1,2,1])\n",
    "print()#Ojo con la notación! No usar * para el producto! Se puede usar @ o bien np.dot\n",
    "print()\n",
    "print(\"el tamaño de B.A es:\"), #completar)"
   ]
  },
  {
   "cell_type": "markdown",
   "id": "2494ac9f",
   "metadata": {},
   "source": [
    "## Sistemas de ecuaciones lineales\n",
    "\n",
    "Para resolver el sistema de ecuaciones lineales $Ax=b$ utilizamos ``np.linalg.solve(A,b)``. ¡OJO! $A$ debe ser una matriz cuadrada."
   ]
  },
  {
   "cell_type": "code",
   "execution_count": 28,
   "id": "b5e945fc",
   "metadata": {},
   "outputs": [
    {
     "data": {
      "text/plain": [
       "array([ 0.66666667, -4.16666667,  2.66666667])"
      ]
     },
     "execution_count": 28,
     "metadata": {},
     "output_type": "execute_result"
    }
   ],
   "source": [
    "np.linalg.solve(A, v)"
   ]
  },
  {
   "cell_type": "markdown",
   "id": "eb6bf4a9",
   "metadata": {},
   "source": [
    "### La función ``row_echelon`` para escalonar matrices.\n",
    "El archivo **row_echelon.py** contiene la función *row_echelon*, que realiza la triangulación de una matriz. El comando %run ejecuta el archivo, de modo que la función está disponible para usar. Es equivalente a copiar y pegar el contenido del archivo dentro de una celda de código."
   ]
  },
  {
   "cell_type": "code",
   "execution_count": 9,
   "id": "a8b8803a",
   "metadata": {},
   "outputs": [],
   "source": [
    "from row_echelon import * #esto importa el contenido del paquete row_echelon: no hace falta usar prefijo. "
   ]
  },
  {
   "cell_type": "markdown",
   "id": "06a78258",
   "metadata": {},
   "source": [
    "Por ejemplo, para resolver el sistema homogéneo:\n",
    "$\\left\\{\n",
    "\\begin{array}{lcc}\n",
    "     x_1-2x_2+x_3 & = & 0\n",
    "  \\\\ 2x_1+x_2-x_3+x_4 & = & 0\n",
    "  \\\\ 5x_2-3x_3+2x_4 & = & 0\n",
    "\\end{array}\n",
    "\\right.$\n",
    "\n",
    "Ingresamos la matriz de coeficientes asociada al sistema y la escalonamos:"
   ]
  },
  {
   "cell_type": "code",
   "execution_count": 10,
   "id": "5aa15f56",
   "metadata": {},
   "outputs": [
    {
     "name": "stdout",
     "output_type": "stream",
     "text": [
      "[[ 1 -2  1  0]\n",
      " [ 2  1 -1  1]\n",
      " [ 0  5 -3  2]]\n",
      "[[ 1.  -2.   1.   0. ]\n",
      " [ 0.   1.  -0.6  0.2]\n",
      " [ 0.   0.   0.   1. ]]\n"
     ]
    }
   ],
   "source": [
    "A = np.array([[1,-2,1,0],[2,1,-1,1],[0,5,-3,2]])\n",
    "print(A)\n",
    "C = row_echelon(A)\n",
    "print(C)"
   ]
  },
  {
   "cell_type": "markdown",
   "id": "589a4cf4",
   "metadata": {},
   "source": [
    "¿Cuál es el rango de $A$? ¿Cómo se clasifica el sistema?"
   ]
  },
  {
   "cell_type": "markdown",
   "id": "d4f01a44",
   "metadata": {},
   "source": [
    "#### Ejemplo con complejos:\n",
    "Ingresemos una matriz con números complejos y escalonémosla. Tener en cuenta que el número $2-i$ se escribe $2-1j$:"
   ]
  },
  {
   "cell_type": "code",
   "execution_count": 11,
   "id": "d1ad3695",
   "metadata": {},
   "outputs": [
    {
     "name": "stdout",
     "output_type": "stream",
     "text": [
      "[[ 1. +0.j   1. -1.j  -1. +1.j   1. +0.j ]\n",
      " [ 0. +0.j   1. -0.j  -0.5+0.j  -0. +0.5j]\n",
      " [ 0. +0.j   0. +0.j   1. +0.j   1. +0.j ]]\n"
     ]
    }
   ],
   "source": [
    "A = np.array([[1+1j,2,-2,1+1j],[1j,1-1j,-1,1+1j],[2,2,-1j,3-2j]])\n",
    "B = row_echelon(A) \n",
    "print(B)"
   ]
  },
  {
   "cell_type": "markdown",
   "id": "62db0bce",
   "metadata": {},
   "source": [
    "## Ejercicio:\n",
    "Ingresen las matrices asociadas a los sistemas vistos en clase y escalonen para corroborar resultados. Utilizamos $np.c\\_ [A,b]$ para formar la matriz ampliada $(A|b)$:"
   ]
  },
  {
   "cell_type": "code",
   "execution_count": 12,
   "id": "1f8e0264",
   "metadata": {},
   "outputs": [
    {
     "ename": "SyntaxError",
     "evalue": "invalid syntax (3544523812.py, line 1)",
     "output_type": "error",
     "traceback": [
      "\u001b[0;36m  Input \u001b[0;32mIn [12]\u001b[0;36m\u001b[0m\n\u001b[0;31m    A= #completar\u001b[0m\n\u001b[0m       ^\u001b[0m\n\u001b[0;31mSyntaxError\u001b[0m\u001b[0;31m:\u001b[0m invalid syntax\n"
     ]
    }
   ],
   "source": [
    "A= #completar\n",
    "b= #completar\n",
    "Ab= #armar la matriz ampliada asociada al sistema\n",
    "print()\n",
    "B= #escalonar\n",
    "print()"
   ]
  },
  {
   "cell_type": "markdown",
   "id": "0c622246",
   "metadata": {},
   "source": [
    "# Ejercicios de la Practica 1"
   ]
  },
  {
   "cell_type": "code",
   "execution_count": 55,
   "id": "e6d7c7f3",
   "metadata": {},
   "outputs": [],
   "source": [
    "import matplotlib.pyplot as plt"
   ]
  },
  {
   "cell_type": "code",
   "execution_count": 31,
   "id": "0394efa7",
   "metadata": {},
   "outputs": [],
   "source": [
    "#Sistema de ecuaciones del ejercicio 1a\n",
    "A = np.array([[1,1,-2,1],[3,2,1,5],[1,-1,1,2]])\n",
    "b = np.array([-2,3,2])\n",
    "A_b = np.c_[A,b]"
   ]
  },
  {
   "cell_type": "code",
   "execution_count": 32,
   "id": "67eadd31",
   "metadata": {},
   "outputs": [
    {
     "data": {
      "text/plain": [
       "array([[ 1.        ,  1.        , -2.        ,  1.        , -2.        ],\n",
       "       [ 0.        ,  1.        , -7.        , -2.        , -9.        ],\n",
       "       [ 0.        ,  0.        ,  1.        ,  0.27272727,  1.27272727]])"
      ]
     },
     "execution_count": 32,
     "metadata": {},
     "output_type": "execute_result"
    }
   ],
   "source": [
    "row_echelon(A_b)"
   ]
  },
  {
   "cell_type": "code",
   "execution_count": 33,
   "id": "66c2e9fd",
   "metadata": {},
   "outputs": [],
   "source": [
    "#Sistema de ecuaciones del ejercicio1c\n",
    "A = np.array([[1j,-1-1j,0],[1,-2,1],[1,2j,-1]])\n",
    "b = np.array([-1,0,2j])\n",
    "A_b = np.c_[A,b]"
   ]
  },
  {
   "cell_type": "code",
   "execution_count": 34,
   "id": "81dd4f9e",
   "metadata": {},
   "outputs": [
    {
     "data": {
      "text/plain": [
       "array([[ 1. +0.j , -1. +1.j ,  0. +0.j ,  0. +1.j ],\n",
       "       [ 0. +0.j ,  1. -0.j , -0.5+0.5j,  0.5+0.5j],\n",
       "       [ 0. +0.j ,  0. +0.j ,  0. +0.j ,  0. +0.j ]])"
      ]
     },
     "execution_count": 34,
     "metadata": {},
     "output_type": "execute_result"
    }
   ],
   "source": [
    "row_echelon(A_b)"
   ]
  },
  {
   "cell_type": "code",
   "execution_count": 36,
   "id": "6c221207",
   "metadata": {},
   "outputs": [],
   "source": [
    "#Sistema del ejercicio 2"
   ]
  },
  {
   "cell_type": "code",
   "execution_count": 46,
   "id": "39911e37",
   "metadata": {},
   "outputs": [],
   "source": [
    "k=0\n",
    "A = np.array([[1,k,-1],[-1,1,k**2],[1,k,k-2]])\n",
    "b = np.array([1,-1,2])"
   ]
  },
  {
   "cell_type": "code",
   "execution_count": 47,
   "id": "7e231307",
   "metadata": {},
   "outputs": [
    {
     "data": {
      "text/plain": [
       "array([ 0., -1., -1.])"
      ]
     },
     "execution_count": 47,
     "metadata": {},
     "output_type": "execute_result"
    }
   ],
   "source": [
    "np.linalg.solve(A,b)"
   ]
  },
  {
   "cell_type": "code",
   "execution_count": null,
   "id": "4699ef90",
   "metadata": {},
   "outputs": [],
   "source": [
    "#Ejercicio 3, comandos sobre matrices"
   ]
  },
  {
   "cell_type": "code",
   "execution_count": 63,
   "id": "2b2019b5",
   "metadata": {},
   "outputs": [
    {
     "name": "stdout",
     "output_type": "stream",
     "text": [
      "[[1 2 3 4 5]\n",
      " [0 1 2 3 4]\n",
      " [2 3 4 5 6]\n",
      " [0 0 1 2 3]\n",
      " [0 0 0 0 1]]\n"
     ]
    },
    {
     "data": {
      "text/plain": [
       "array([[4, 5],\n",
       "       [3, 4]])"
      ]
     },
     "execution_count": 63,
     "metadata": {},
     "output_type": "execute_result"
    }
   ],
   "source": [
    "A = np.array([[1, 2, 3, 4, 5], [0, 1, 2, 3, 4], [2, 3, 4, 5, 6], [0, 0, 1, 2, 3], [0, 0, 0, 0, 1]])\n",
    "print(A)\n",
    "desde_fila = 0\n",
    "hasta_fila = 2\n",
    "desde_columna = 3\n",
    "hasta_columna = 5\n",
    "A[desde_fila:hasta_fila, desde_columna:hasta_columna]"
   ]
  },
  {
   "cell_type": "code",
   "execution_count": 83,
   "id": "1e56bd76",
   "metadata": {},
   "outputs": [
    {
     "data": {
      "text/plain": [
       "array([[1, 2, 3, 4, 5],\n",
       "       [2, 3, 4, 5, 6],\n",
       "       [0, 0, 0, 0, 1]])"
      ]
     },
     "execution_count": 83,
     "metadata": {},
     "output_type": "execute_result"
    }
   ],
   "source": [
    "filas = [0,2,4]\n",
    "A[filas,:]"
   ]
  },
  {
   "cell_type": "code",
   "execution_count": 84,
   "id": "41e8d617",
   "metadata": {},
   "outputs": [
    {
     "data": {
      "text/plain": [
       "array([1, 4, 1])"
      ]
     },
     "execution_count": 84,
     "metadata": {},
     "output_type": "execute_result"
    }
   ],
   "source": [
    "ind = np.array([0, 2, 4])\n",
    "A[ind, ind]\n",
    "# esto me va a dar la interseccion entre\n",
    "# las filas [0,2,4] y las columnas [0,2,4]"
   ]
  },
  {
   "cell_type": "code",
   "execution_count": 86,
   "id": "5e7995a5",
   "metadata": {},
   "outputs": [
    {
     "data": {
      "text/plain": [
       "array([1, 4, 1])"
      ]
     },
     "execution_count": 86,
     "metadata": {},
     "output_type": "execute_result"
    }
   ],
   "source": [
    "A[ind, ind[:, None]]\n",
    "#pensar..."
   ]
  },
  {
   "cell_type": "code",
   "execution_count": 49,
   "id": "302fd4fa",
   "metadata": {},
   "outputs": [],
   "source": [
    "#Ajuste de parabola, ejercicio 4"
   ]
  },
  {
   "cell_type": "code",
   "execution_count": 57,
   "id": "82057e08",
   "metadata": {},
   "outputs": [],
   "source": [
    "A = np.array([[1,1,1],[4,2,1],[9,3,1]])\n",
    "b = np.array([1,2,0])\n",
    "a,b,c = np.linalg.solve(A,b)"
   ]
  },
  {
   "cell_type": "code",
   "execution_count": 59,
   "id": "5f85365e",
   "metadata": {},
   "outputs": [
    {
     "data": {
      "text/plain": [
       "(-1.5, 5.5, -3.000000000000001)"
      ]
     },
     "execution_count": 59,
     "metadata": {},
     "output_type": "execute_result"
    }
   ],
   "source": [
    "a,b,c "
   ]
  },
  {
   "cell_type": "code",
   "execution_count": 58,
   "id": "b3c754c9",
   "metadata": {},
   "outputs": [
    {
     "data": {
      "image/png": "[encoded data removed]",
      "text/plain": [
       "<Figure size 640x480 with 1 Axes>"
      ]
     },
     "metadata": {},
     "output_type": "display_data"
    }
   ],
   "source": [
    "xx = np.array([1, 2, 3])\n",
    "yy = np.array([1, 2, 0])\n",
    "x = np.linspace(0, 4, 100)\n",
    "f = lambda t: a * t**2 + b * t + c\n",
    "plt.plot(xx, yy)\n",
    "plt.plot(x, f(x))\n",
    "plt.show()"
   ]
  },
  {
   "cell_type": "code",
   "execution_count": null,
   "id": "edaee2d9",
   "metadata": {},
   "outputs": [],
   "source": []
  }
 ],
 "metadata": {
  "kernelspec": {
   "display_name": "Python 3 (ipykernel)",
   "language": "python",
   "name": "python3"
  },
  "language_info": {
   "codemirror_mode": {
    "name": "ipython",
    "version": 3
   },
   "file_extension": ".py",
   "mimetype": "text/x-python",
   "name": "python",
   "nbconvert_exporter": "python",
   "pygments_lexer": "ipython3",
   "version": "3.8.10"
  },
  "vscode": {
   "interpreter": {
    "hash": "916dbcbb3f70747c44a77c7bcd40155683ae19c65e1c03b4aa3499c5328201f1"
   }
  }
 },
 "nbformat": 4,
 "nbformat_minor": 5
}
