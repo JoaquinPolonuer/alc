{
 "cells": [
  {
   "cell_type": "code",
   "execution_count": 57,
   "id": "64643324",
   "metadata": {},
   "outputs": [],
   "source": [
    "import numpy as np\n",
    "from numpy.linalg import inv\n",
    "from numpy.linalg import norm"
   ]
  },
  {
   "cell_type": "code",
   "execution_count": 58,
   "id": "c412c958",
   "metadata": {},
   "outputs": [],
   "source": [
    "def L(A):\n",
    "    return np.tril(A, -1)\n",
    "\n",
    "def D(A):\n",
    "    return np.diag(np.diag(A))\n",
    "    \n",
    "def U(A):\n",
    "    return np.triu(A, 1)"
   ]
  },
  {
   "cell_type": "code",
   "execution_count": 59,
   "id": "0d9a6b03",
   "metadata": {},
   "outputs": [],
   "source": [
    "def T_GS(A):\n",
    "    return -inv(D(A) + L(A))@U(A)\n",
    "\n",
    "def T_J(A):\n",
    "    return -inv(D(A))@(L(A)+U(A))\n",
    "\n",
    "def C_GS(A, b):\n",
    "    return inv(D(A)+L(A))@b\n",
    "\n",
    "def C_J(A, b):\n",
    "    return inv(D(A))@b"
   ]
  },
  {
   "cell_type": "code",
   "execution_count": 70,
   "id": "28a0f675",
   "metadata": {},
   "outputs": [],
   "source": [
    "def metodo_GS(A, b):\n",
    "    T = T_GS(A)\n",
    "    C = C_GS(A,b)\n",
    "    x = np.random.rand(len(b))\n",
    "    \n",
    "    converge = False\n",
    "    for i in range(1000):\n",
    "        x_next = T@x + C\n",
    "        \n",
    "        if (x_next == x).all():\n",
    "            return x\n",
    "            \n",
    "        x = x_next\n",
    "    \n",
    "    print(\"Advertencia: Se alcanzo el tope de iteraciones\")\n",
    "    return x\n",
    "    \n",
    "def metodo_J(A, b):\n",
    "    T = T_J(A)\n",
    "    C = C_J(A,b)\n",
    "    x = np.random.rand(len(b))\n",
    "    \n",
    "    converge = False\n",
    "    for i in range(1000):\n",
    "        x_next = T@x + C\n",
    "        \n",
    "        if (x_next == x).all():\n",
    "            return x\n",
    "            \n",
    "        x = x_next\n",
    "    \n",
    "    print(\"Advertencia: Se alcanzo el tope de iteraciones\")\n",
    "    return x"
   ]
  },
  {
   "cell_type": "code",
   "execution_count": 60,
   "id": "55804018",
   "metadata": {},
   "outputs": [],
   "source": [
    "A = np.array([[64,-6],[6,-1]])\n",
    "b = np.array([1,2])"
   ]
  },
  {
   "cell_type": "code",
   "execution_count": null,
   "id": "b3c16bb0",
   "metadata": {},
   "outputs": [],
   "source": []
  }
 ],
 "metadata": {
  "kernelspec": {
   "display_name": "Python 3 (ipykernel)",
   "language": "python",
   "name": "python3"
  },
  "language_info": {
   "codemirror_mode": {
    "name": "ipython",
    "version": 3
   },
   "file_extension": ".py",
   "mimetype": "text/x-python",
   "name": "python",
   "nbconvert_exporter": "python",
   "pygments_lexer": "ipython3",
   "version": "3.8.10"
  }
 },
 "nbformat": 4,
 "nbformat_minor": 5
}
