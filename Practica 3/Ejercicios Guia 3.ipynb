{
 "cells": [
  {
   "cell_type": "code",
   "execution_count": 44,
   "id": "7999349e",
   "metadata": {},
   "outputs": [],
   "source": [
    "from scipy.linalg import null_space\n",
    "import numpy as np\n",
    "from numpy.linalg import eigvals, norm, inv\n"
   ]
  },
  {
   "cell_type": "markdown",
   "id": "b83dc331",
   "metadata": {},
   "source": [
    "### Ejercicio 3: Fibonacci"
   ]
  },
  {
   "cell_type": "code",
   "execution_count": 100,
   "id": "94b30bd2",
   "metadata": {},
   "outputs": [],
   "source": [
    "A = np.array([[0,1],[1,1]])"
   ]
  },
  {
   "cell_type": "code",
   "execution_count": 101,
   "id": "7591e8cb",
   "metadata": {},
   "outputs": [],
   "source": [
    "l2, l1 = eigvals(A)\n",
    "e1 = np.array([1,l1]) #null_space(A-l1*np.eye(2))\n",
    "e2 = np.array([1,l2]) #null_space(A-l2*np.eye(2))\n",
    "\n",
    "CBE = np.array([e1,e2]).T\n",
    "D = np.array(([l1, 0], [0, l2]))\n",
    "CEB = inv(CBE)"
   ]
  },
  {
   "cell_type": "code",
   "execution_count": 102,
   "id": "986fdf71",
   "metadata": {},
   "outputs": [
    {
     "data": {
      "text/plain": [
       "array([[-0.,  1.],\n",
       "       [ 1.,  1.]])"
      ]
     },
     "execution_count": 102,
     "metadata": {},
     "output_type": "execute_result"
    }
   ],
   "source": [
    "np.round(CBE@D@CEB)"
   ]
  },
  {
   "cell_type": "code",
   "execution_count": 103,
   "id": "c0eee91e",
   "metadata": {},
   "outputs": [
    {
     "name": "stdout",
     "output_type": "stream",
     "text": [
      "0\n",
      "1\n",
      "1\n",
      "2\n",
      "3\n",
      "5\n",
      "8\n",
      "13\n",
      "21\n",
      "34\n"
     ]
    }
   ],
   "source": [
    "def mi_super_formula_de_fibonacci(n):\n",
    "    return int((-l1**n+l2**n)/(l2-l1))\n",
    "\n",
    "for n in range(10):\n",
    "    print(mi_super_formula_de_fibonacci(n))\n"
   ]
  },
  {
   "cell_type": "code",
   "execution_count": null,
   "id": "7bbba2ca",
   "metadata": {},
   "outputs": [],
   "source": []
  }
 ],
 "metadata": {
  "kernelspec": {
   "display_name": "Python 3 (ipykernel)",
   "language": "python",
   "name": "python3"
  },
  "language_info": {
   "codemirror_mode": {
    "name": "ipython",
    "version": 3
   },
   "file_extension": ".py",
   "mimetype": "text/x-python",
   "name": "python",
   "nbconvert_exporter": "python",
   "pygments_lexer": "ipython3",
   "version": "3.8.10"
  }
 },
 "nbformat": 4,
 "nbformat_minor": 5
}
