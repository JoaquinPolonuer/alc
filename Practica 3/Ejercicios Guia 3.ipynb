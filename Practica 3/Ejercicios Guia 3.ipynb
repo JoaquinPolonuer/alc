{
 "cells": [
  {
   "cell_type": "code",
   "execution_count": 73,
   "id": "7999349e",
   "metadata": {},
   "outputs": [],
   "source": [
    "from scipy.linalg import null_space\n",
    "import numpy as np\n",
    "from numpy.linalg import eigvals, norm, inv\n",
    "import matplotlib.pyplot as plt"
   ]
  },
  {
   "cell_type": "code",
   "execution_count": 79,
   "id": "b700ee38",
   "metadata": {},
   "outputs": [],
   "source": [
    "np.set_printoptions(precision=3)\n",
    "np.set_printoptions(suppress=True)"
   ]
  },
  {
   "cell_type": "markdown",
   "id": "b83dc331",
   "metadata": {},
   "source": [
    "### Ejercicio 3: Fibonacci"
   ]
  },
  {
   "cell_type": "code",
   "execution_count": 3,
   "id": "94b30bd2",
   "metadata": {},
   "outputs": [],
   "source": [
    "A = np.array([[0,1],[1,1]])"
   ]
  },
  {
   "cell_type": "code",
   "execution_count": 4,
   "id": "7591e8cb",
   "metadata": {},
   "outputs": [],
   "source": [
    "l2, l1 = eigvals(A)\n",
    "e1 = np.array([1,l1]) #null_space(A-l1*np.eye(2))\n",
    "e2 = np.array([1,l2]) #null_space(A-l2*np.eye(2))\n",
    "\n",
    "CBE = np.array([e1,e2]).T\n",
    "D = np.array(([l1, 0], [0, l2]))\n",
    "CEB = inv(CBE)"
   ]
  },
  {
   "cell_type": "code",
   "execution_count": 5,
   "id": "986fdf71",
   "metadata": {},
   "outputs": [
    {
     "data": {
      "text/plain": [
       "array([[-0.,  1.],\n",
       "       [ 1.,  1.]])"
      ]
     },
     "execution_count": 5,
     "metadata": {},
     "output_type": "execute_result"
    }
   ],
   "source": [
    "np.round(CBE@D@CEB)"
   ]
  },
  {
   "cell_type": "code",
   "execution_count": 6,
   "id": "c0eee91e",
   "metadata": {},
   "outputs": [
    {
     "name": "stdout",
     "output_type": "stream",
     "text": [
      "0\n",
      "1\n",
      "1\n",
      "2\n",
      "3\n",
      "5\n",
      "8\n",
      "13\n",
      "21\n",
      "34\n"
     ]
    }
   ],
   "source": [
    "def mi_super_formula_de_fibonacci(n):\n",
    "    return int((-l1**n+l2**n)/(l2-l1))\n",
    "\n",
    "for n in range(10):\n",
    "    print(mi_super_formula_de_fibonacci(n))\n"
   ]
  },
  {
   "cell_type": "markdown",
   "id": "5fd058d4",
   "metadata": {},
   "source": [
    "# Markov"
   ]
  },
  {
   "cell_type": "code",
   "execution_count": 69,
   "id": "cec30aa5",
   "metadata": {},
   "outputs": [],
   "source": [
    "def p_inf_v(P, v ,k , tol = 10**-6):\n",
    "    \"\"\"Itera v = P@v hasta que converja o se llegue a k iteraciones.\n",
    "    tol es como el espilón del límite, si la distancia entre dos iteraciones\n",
    "    consecutivas es menor a tol consideramos que llegamos al límite\"\"\"\n",
    "    \n",
    "    for i in range(k):\n",
    "        if np.linalg.norm(P @ v - v) < tol:\n",
    "            break\n",
    "        else:\n",
    "            v = P @ v\n",
    "    return(v)"
   ]
  },
  {
   "cell_type": "markdown",
   "id": "233003c1",
   "metadata": {},
   "source": [
    "### Ejercicio 17: Ratones"
   ]
  },
  {
   "cell_type": "code",
   "execution_count": 11,
   "id": "0830867d",
   "metadata": {},
   "outputs": [],
   "source": [
    "A = (1/4) * np.array([[1,2,2,2], [1,2,0,0], [1,0,2,0], [1,0,0,2]])\n",
    "avals = eigvals(A)\n",
    "avecs = [null_space(A - l*np.eye(4)) for l in avals]"
   ]
  },
  {
   "cell_type": "code",
   "execution_count": 16,
   "id": "5d643c59",
   "metadata": {},
   "outputs": [
    {
     "data": {
      "text/plain": [
       "array([8.046875, 3.984375, 3.984375, 3.984375])"
      ]
     },
     "execution_count": 16,
     "metadata": {},
     "output_type": "execute_result"
    }
   ],
   "source": [
    "v = [20,0,0,0]\n",
    "for i in range(4):\n",
    "    v = A@v\n",
    "v"
   ]
  },
  {
   "cell_type": "code",
   "execution_count": 33,
   "id": "879a3c5f",
   "metadata": {},
   "outputs": [
    {
     "name": "stdout",
     "output_type": "stream",
     "text": [
      "[[0.4 0.4 0.4 0.4]\n",
      " [0.2 0.2 0.2 0.2]\n",
      " [0.2 0.2 0.2 0.2]\n",
      " [0.2 0.2 0.2 0.2]]\n"
     ]
    }
   ],
   "source": [
    "A = (1/4) * np.array([[1,2,2,2], [1,2,0,0], [1,0,2,0], [1,0,0,2]])\n",
    "for i in range(5):\n",
    "    A = A@A\n",
    "print(A)"
   ]
  },
  {
   "cell_type": "markdown",
   "id": "95fd856a",
   "metadata": {},
   "source": [
    "### Ejercicio 18: Borracho"
   ]
  },
  {
   "cell_type": "code",
   "execution_count": 62,
   "id": "6fcda7e4",
   "metadata": {},
   "outputs": [],
   "source": [
    "def matriz_de_transicion(n,p):\n",
    "    \"\"\"Devuelve la matriz de transición cuando la probabilidad\n",
    "    de ir para casa es p y la distancia es de n\n",
    "    \"\"\"\n",
    "    \n",
    "    A = np.zeros((n,n))\n",
    "    A[0,0] = 1\n",
    "    A[-1,-1] = 1\n",
    "    for j in range(1,n-1):\n",
    "        A[j-1,j] = p\n",
    "        A[j+1,j] = 1-p\n",
    "\n",
    "    return A"
   ]
  },
  {
   "cell_type": "code",
   "execution_count": 94,
   "id": "3b628429",
   "metadata": {},
   "outputs": [],
   "source": [
    "def calcular_estado_limite(n, p, ei):\n",
    "    P = matriz_de_transicion(n,p)\n",
    "    v = np.zeros(n)\n",
    "    v[ei] = 1\n",
    "    return p_inf_v(P, v, 10000)"
   ]
  },
  {
   "cell_type": "markdown",
   "id": "99b9a1fc",
   "metadata": {},
   "source": [
    "#### Seria interesante calcular la probabilidad de quedarse en casa como una funcion de ei y p"
   ]
  },
  {
   "cell_type": "code",
   "execution_count": 97,
   "id": "cbd02f3e",
   "metadata": {},
   "outputs": [
    {
     "name": "stdout",
     "output_type": "stream",
     "text": [
      "Con un 47.368323441321245% de probabilidades termina en casa\n",
      "Con un 52.631479986358876% de probabilidades termina en el bar\n"
     ]
    }
   ],
   "source": [
    "limite = calcular_estado_limite(20, 1/2, 10)\n",
    "print(f\"Con un {limite[0]*100}% de probabilidades termina en casa\")\n",
    "print(f\"Con un {limite[n-1]*100}% de probabilidades termina en el bar\")"
   ]
  },
  {
   "cell_type": "code",
   "execution_count": 98,
   "id": "83184c5c",
   "metadata": {},
   "outputs": [
    {
     "name": "stdout",
     "output_type": "stream",
     "text": [
      "Con un 99.99950424862773% de probabilidades termina en casa\n",
      "Con un 0.0003814691861656787% de probabilidades termina en el bar\n"
     ]
    }
   ],
   "source": [
    "limite = calcular_estado_limite(20, 0.8, 10)\n",
    "print(f\"Con un {limite[0]*100}% de probabilidades termina en casa\")\n",
    "print(f\"Con un {limite[n-1]*100}% de probabilidades termina en el bar\")"
   ]
  },
  {
   "cell_type": "code",
   "execution_count": 101,
   "id": "b9bbd86c",
   "metadata": {},
   "outputs": [
    {
     "name": "stdout",
     "output_type": "stream",
     "text": [
      "Con un 94.73674467762108% de probabilidades termina en casa\n",
      "Con un 5.263059119935287% de probabilidades termina en el bar\n"
     ]
    }
   ],
   "source": [
    "limite = calcular_estado_limite(20, 1/2, 1)\n",
    "print(f\"Con un {limite[0]*100}% de probabilidades termina en casa\")\n",
    "print(f\"Con un {limite[n-1]*100}% de probabilidades termina en el bar\")"
   ]
  },
  {
   "cell_type": "code",
   "execution_count": null,
   "id": "48a8e313",
   "metadata": {},
   "outputs": [],
   "source": []
  }
 ],
 "metadata": {
  "kernelspec": {
   "display_name": "Python 3 (ipykernel)",
   "language": "python",
   "name": "python3"
  },
  "language_info": {
   "codemirror_mode": {
    "name": "ipython",
    "version": 3
   },
   "file_extension": ".py",
   "mimetype": "text/x-python",
   "name": "python",
   "nbconvert_exporter": "python",
   "pygments_lexer": "ipython3",
   "version": "3.8.10"
  }
 },
 "nbformat": 4,
 "nbformat_minor": 5
}
