{
 "cells": [
  {
   "cell_type": "markdown",
   "id": "197eccea",
   "metadata": {},
   "source": [
    "## Álgebra Lineal Computacional - 2C 2022\n",
    "\n",
    "\n",
    "### Diagonalización\n",
    "\n",
    "Veamos cómo trabajar en Numpy con los autovalores y los autovectores."
   ]
  },
  {
   "cell_type": "code",
   "execution_count": 4,
   "id": "4c354bca",
   "metadata": {},
   "outputs": [],
   "source": [
    "import numpy as np\n",
    "import scipy \n",
    "from scipy.linalg import null_space #Lo vamos necesitar para calcular los núcleos de las matrices "
   ]
  },
  {
   "cell_type": "markdown",
   "id": "9a7f48c9",
   "metadata": {},
   "source": [
    "Primero veamos como ejemplo una de las matrices trabajadas en clase, así comparamos resultados.\n",
    "Para $k=-7$ la matriz $A$ resultó:\n",
    "$$A = \\begin{pmatrix} -3 & 0 & 0 \\\\ -8 & 5 & -4 \\\\ -8 & 8 & -7 \\end{pmatrix}=\\begin{pmatrix} 1 & 0 & 0 \\\\ 1 & 2 & 1 \\\\ 0 & 1 & 1 \\end{pmatrix}\\begin{pmatrix} -3 & 0 & 0 \\\\ 0 & -3 & 0 \\\\ 0 & 0 & 1 \\end{pmatrix}\\begin{pmatrix} 1 & 0 & 0 \\\\ 1 & 2 & 1 \\\\ 0 & 1 & 1 \\end{pmatrix}^{-1}$$"
   ]
  },
  {
   "cell_type": "markdown",
   "id": "efaa2dad",
   "metadata": {},
   "source": [
    "En la clase teórica les presentaron un método para calcular autovalores y autovectores, usando **np.linalg.eig()**, probémoslo:"
   ]
  },
  {
   "cell_type": "code",
   "execution_count": 19,
   "id": "9d8d2174",
   "metadata": {},
   "outputs": [
    {
     "name": "stdout",
     "output_type": "stream",
     "text": [
      "Autovalores:  [-3.  1. -3.]\n",
      "Autovectores: \n",
      " [[ 0.          0.          0.74535599]\n",
      " [-0.4472136  -0.70710678  0.59628479]\n",
      " [-0.89442719 -0.70710678 -0.2981424 ]]\n"
     ]
    }
   ],
   "source": [
    "A=np.array([[-3,0,0],[-8,5,-4],[-8,8,-7]])\n",
    "e = np.linalg.eig(A) # e es una lista con dos elementos\n",
    "print(\"Autovalores: \", e[0]) # El primer elemento es un array de autovalores\n",
    "print(\"Autovectores: \\n\", e[1]) # El segundo elemento es una matriz con los autovectores normalizados como columnas."
   ]
  },
  {
   "cell_type": "markdown",
   "id": "1d7b7f80",
   "metadata": {},
   "source": [
    "Es bastante diferente a lo que obtuvimos, sucede que además de tener los autovectores en otro orden, los mismos están normalizados, o sea miden 1 con la norma 2 (la euclídea), por ejemplo:\n",
    "$$||(0,1,1)||=\\sqrt{2}\\Longrightarrow\\frac{1}{\\sqrt{2}}(0,1,1)=(0,\\frac{1}{\\sqrt{2}},\\frac{1}{\\sqrt{2}})\\approx(0,0.7,0.7)$$\n",
    "Por otro lado, hay otro par de autovectores de autovalor $-3$, ¿Por qué? ¿Está bien?\n",
    "\n",
    "$E_{-3}$ es un plano en $\\mathbb{R}^3$, Python nos dió otro par de generadores (de longitud 1) del mismo plano."
   ]
  },
  {
   "cell_type": "markdown",
   "id": "c6c36c71",
   "metadata": {},
   "source": [
    "## Ejercicio\n",
    "Calcular autovalores y autovectores de la matriz $A$ y decidir si es $A$ es diagonalizable en $\\mathbb{R}$:\n",
    "    $$A = \\begin{pmatrix} 2 & 4 & -2 \\\\ 3 & 1 & 3 \\\\ -1 & -1 & 3 \\end{pmatrix}$$"
   ]
  },
  {
   "cell_type": "code",
   "execution_count": 20,
   "id": "64305c80",
   "metadata": {},
   "outputs": [
    {
     "name": "stdout",
     "output_type": "stream",
     "text": [
      "Autovalores:  [-2.+0.00000000e+00j  4.+1.43552999e-08j  4.-1.43552999e-08j]\n",
      "Autovectores: \n",
      " [[ 7.07106781e-01+0.00000000e+00j -7.07106781e-01-5.07536495e-09j\n",
      "  -7.07106781e-01+5.07536495e-09j]\n",
      " [-7.07106781e-01+0.00000000e+00j -2.37879385e-17-5.07536495e-09j\n",
      "  -2.37879385e-17+5.07536495e-09j]\n",
      " [-6.28472170e-17+0.00000000e+00j  7.07106781e-01+0.00000000e+00j\n",
      "   7.07106781e-01-0.00000000e+00j]]\n"
     ]
    }
   ],
   "source": [
    "A=np.array([[2,4,-2],[3,1,3],[-1,-1,3]])\n",
    "e = np.linalg.eig(A) \n",
    "print(\"Autovalores: \", e[0]) \n",
    "print(\"Autovectores: \\n\",e[1])"
   ]
  },
  {
   "cell_type": "markdown",
   "id": "4071d672",
   "metadata": {},
   "source": [
    "Qué fulero... Redondeemos los valores para ver mejor usando **np.round()**"
   ]
  },
  {
   "cell_type": "code",
   "execution_count": 22,
   "id": "f3e8c097",
   "metadata": {},
   "outputs": [
    {
     "name": "stdout",
     "output_type": "stream",
     "text": [
      "Autovalores:  [-2.+0.j  4.+0.j  4.-0.j]\n",
      "Autovectores: \n",
      " [[ 0.71+0.j -0.71-0.j -0.71+0.j]\n",
      " [-0.71+0.j -0.  -0.j -0.  +0.j]\n",
      " [-0.  +0.j  0.71+0.j  0.71-0.j]]\n"
     ]
    }
   ],
   "source": [
    "print(\"Autovalores: \", np.round(e[0],2))#nos muestra 2 decimales en cada componente   \n",
    "print(\"Autovectores: \\n\",np.round(e[1],2))"
   ]
  },
  {
   "cell_type": "markdown",
   "id": "34002d1d",
   "metadata": {},
   "source": [
    "#### Atención: \n",
    "Vemos que $-2$ es autovalor simple, y $4$ es autovalor **doble**, dependemos entonces de $dim(E_4)$ para determinar si conseguimos una base de autovectores. El aspecto de los resultados es engañoso... ¿Por qué?\n",
    "#### Consejo:\n",
    "Si vamos a usar la calculadora de Numpy para trabajar, conviene calcular los autovectores usando **null_space** de la librería de **scipy.linalg** que importamos arriba.\n",
    "Recordar que para hallar $E_4$ buscamos:\n",
    "$$v\\in\\mathbb{R}^3 \\quad \\hbox{tales que}\\quad Av=4v\\Longleftrightarrow (A-4I)v=0$$\n",
    "Por lo tanto buscamos el núcleo de $A-4I$:"
   ]
  },
  {
   "cell_type": "code",
   "execution_count": 26,
   "id": "817968c9",
   "metadata": {},
   "outputs": [
    {
     "name": "stdout",
     "output_type": "stream",
     "text": [
      "Autovalores:  [-2.+0.j  4.+0.j  4.-0.j]\n",
      "A-4I=\n",
      " [[-2.  4. -2.]\n",
      " [ 3. -3.  3.]\n",
      " [-1. -1. -1.]]\n",
      "Autovectores de autovalor 4:\n",
      " [[-0.71]\n",
      " [-0.  ]\n",
      " [ 0.71]]\n"
     ]
    }
   ],
   "source": [
    "A=np.array([[2,4,-2],[3,1,3],[-1,-1,3]])\n",
    "a = np.linalg.eigvals(A)  #sólo nos calcula los autovalores \n",
    "print(\"Autovalores: \", np.round(a,2)) \n",
    "B=A-4*np.eye(3)\n",
    "print(\"A-4I=\\n\",B)\n",
    "E_4=null_space(B)\n",
    "print(\"Autovectores de autovalor 4:\\n\",np.round(E_4,2))\n",
    "C=A+2*np.eye(3)\n",
    "E_2=np.round(null_space(C),2)"
   ]
  },
  {
   "cell_type": "markdown",
   "id": "6a524f07",
   "metadata": {},
   "source": [
    "¿Es $A$ diagonalizable?"
   ]
  },
  {
   "cell_type": "markdown",
   "id": "c660d33c",
   "metadata": {},
   "source": [
    "No, porque 4 deberia tener 2 autovectores asociados"
   ]
  },
  {
   "cell_type": "markdown",
   "id": "3f170c1e",
   "metadata": {},
   "source": [
    "## Ejercicio\n",
    "Calcular el término general de la sucesión $(a_n)_{n\\in\\mathbb{N}}$ dada por recurrencia:\n",
    "    $$ \\left\\{ \\begin{array}  Aa_1  = 1 \\\\ a_2 = 3 \\\\ a_{n+2}=3a_{n+1}-2a_n, \\quad n\\geq 1 \\end{array} \\right.$$\n",
    "    \n",
    "Observar que un término de la sucesión depende **linealmente** de los dos términos anteriores. Por ejemplo $a_3=-2a_1+3a_2$. Eso significa que podemos representar los términos de la sucesión de la siguiente manera:\n",
    "\n",
    "$$ \\begin{pmatrix} a_2 \\\\ a_3 \\end{pmatrix}=\\begin{pmatrix}  0 & 1 \\\\ -2 & 3 \\end{pmatrix}\\begin{pmatrix} a_1 \\\\ a_2 \\end{pmatrix}$$\n",
    "$$\\Longrightarrow  \\begin{pmatrix} a_3 \\\\ a_4 \\end{pmatrix}=\\begin{pmatrix}  0 & 1 \\\\ -2 & 3 \\end{pmatrix}\\begin{pmatrix} a_2 \\\\ a_3 \\end{pmatrix}=\\begin{pmatrix}  0 & 1 \\\\ -2 & 3 \\end{pmatrix}^2\\begin{pmatrix} a_1 \\\\ a_2 \\end{pmatrix}$$\n",
    "\n",
    "Siguiendo esta relación, queda que \n",
    "\n",
    "$$\\begin{pmatrix} a_{n} \\\\ a_{n+1} \\end{pmatrix}=\\begin{pmatrix}  0 & 1 \\\\ -2 & 3 \\end{pmatrix}^{n-1}\\begin{pmatrix} a_1 \\\\ a_2 \\end{pmatrix}$$\n",
    "\n",
    "Por lo tanto, para calcular el término general $a_n$ podemos calcular $A^{n-1}$, siendo $A=\\begin{pmatrix}  0 & 1 \\\\ -2 & 3 \\end{pmatrix}$ \n",
    "\n",
    "Sabemos que si $A$ es diagonalizable, este cálculo es muy simple, porque si $A=C\\cdot D\\cdot C^{-1}$ entonces $A^{n-1}=C\\cdot D^{n-1}\\cdot C^{-1}$. Empecemos entonces diagonalizando la matriz:"
   ]
  },
  {
   "cell_type": "code",
   "execution_count": 27,
   "id": "3c8f64c8",
   "metadata": {},
   "outputs": [
    {
     "name": "stdout",
     "output_type": "stream",
     "text": [
      "[1. 2.]\n"
     ]
    }
   ],
   "source": [
    "A=np.array([[0,1],[-2,3]])\n",
    "a=np.linalg.eigvals(A)\n",
    "print(a) ####Podemos afirmar que es diagonalizable porque tiene 2 autovalores distintos!!! "
   ]
  },
  {
   "cell_type": "markdown",
   "id": "dd6f71be",
   "metadata": {},
   "source": [
    "Sabemos así que $$A=C\\cdot \\begin{pmatrix}  1 & 0 \\\\ 0 & 2 \\end{pmatrix}\\cdot C^{-1} \\Longrightarrow A^{n-1}=C\\cdot \\begin{pmatrix}  1 & 0 \\\\ 0 & 2 \\end{pmatrix}^{n-1}\\cdot C^{-1}\\Longrightarrow A^{n-1}=C\\cdot \\begin{pmatrix}  1 & 0 \\\\ 0 & 2^{n-1} \\end{pmatrix}\\cdot C^{-1}$$\n",
    "Calculemos los autovectores de $A$ para tener la matriz $C$:"
   ]
  },
  {
   "cell_type": "code",
   "execution_count": 29,
   "id": "752e7ff9",
   "metadata": {},
   "outputs": [
    {
     "name": "stdout",
     "output_type": "stream",
     "text": [
      "Avec de aval 1:\n",
      " [[0.71]\n",
      " [0.71]]\n",
      "Avec de aval 2:\n",
      " [[0.45]\n",
      " [0.89]]\n"
     ]
    }
   ],
   "source": [
    "E_1=null_space(A-a[0]*np.eye(2))\n",
    "E_2=null_space(A-a[1]*np.eye(2))\n",
    "print(\"Avec de aval 1:\\n\",np.round(E_1,2))#redondeamos para verlos más bonitos\n",
    "print(\"Avec de aval 2:\\n\",np.round(E_2,2))"
   ]
  },
  {
   "cell_type": "markdown",
   "id": "c21aeedd",
   "metadata": {},
   "source": [
    "Antes de seguir armemos la matriz de autovectores $C$ y chequemos que no arrastramos grandes yerros calculando $C.A.C^{-1}$ y verificando que nos da $D$:\n",
    "\n",
    "Para esto presentamos la función **np.append()** que agrega filas o columnas. Eso lo indicamos con **axis** (axis=0 agrega fila, axis=1 agrega columna)."
   ]
  },
  {
   "cell_type": "code",
   "execution_count": 30,
   "id": "6c5b0716",
   "metadata": {},
   "outputs": [
    {
     "name": "stdout",
     "output_type": "stream",
     "text": [
      "[[ 1.  0.]\n",
      " [-0.  2.]]\n"
     ]
    }
   ],
   "source": [
    "C=np.empty((2,0),int) #Armamos una matriz vacía de dos filas y ninguna columna\n",
    "C=np.append(C,E_1,axis=1) #A la matriz vacía C le agregamos en la primera columna el avec otenido de aval 1. \n",
    "C=np.append(C,E_2,axis=1) #A la matriz anterior le agremos el avec obtenido de aval 2.\n",
    "\n",
    "C_1=np.linalg.inv(C)#la invertimos\n",
    "print(np.round(C_1@A@C,2))#esto debería dar la matriz diagonal D con los aval. Redondeamos para ver mejor."
   ]
  },
  {
   "cell_type": "markdown",
   "id": "87f9ccd1",
   "metadata": {},
   "source": [
    "¿Cómo calculamos $a_n$? Recordar que:\n",
    "$$\\begin{pmatrix} a_{n} \\\\ a_{n+1} \\end{pmatrix}=\\begin{pmatrix}  0 & 1 \\\\ -2 & 3 \\end{pmatrix}^{n-1}\\begin{pmatrix} a_1 \\\\ a_2 \\end{pmatrix}$$\n",
    "Usando la diagonalización queda:\n",
    "$$\\begin{pmatrix} a_{n} \\\\ a_{n+1} \\end{pmatrix}=C\\cdot \\begin{pmatrix}  1 & 0 \\\\ 0 & 2^{n-1} \\end{pmatrix}\\cdot C^{-1}\\begin{pmatrix} a_1 \\\\ a_2 \\end{pmatrix}$$\n",
    "y recordando que $a_1=1$ y $a_2=3$, finalmente sabemos que $a_n$ será la primera componente de:\n",
    "$$\\begin{pmatrix} a_{n} \\\\ a_{n+1} \\end{pmatrix}=C\\cdot \\begin{pmatrix}  1 & 0 \\\\ 0 & 2^{n-1} \\end{pmatrix}\\cdot C^{-1}\\begin{pmatrix} 1 \\\\ 3 \\end{pmatrix}$$\n",
    "\n",
    "Si hacemos las cuentas a mano (recordar que Numpy nos da autovectores normalizados), tenemos que:\n",
    "$$\\begin{pmatrix} a_{n} \\\\ a_{n+1} \\end{pmatrix}=\\begin{pmatrix}  1 & 1 \\\\ 1 & 2\\end{pmatrix}\\cdot \\begin{pmatrix}  1 & 0 \\\\ 0 & 2^{n-1} \\end{pmatrix}\\cdot \\begin{pmatrix}  2 & -1 \\\\ -1 & 1 \\end{pmatrix}\\begin{pmatrix} 1 \\\\ 3 \\end{pmatrix}$$\n",
    "y multiplicando llegamos a $$a_n=-1+2^n, \\quad \\forall n\\in\\mathbb{N}$$\n",
    "\n"
   ]
  },
  {
   "cell_type": "markdown",
   "id": "249fc505",
   "metadata": {},
   "source": [
    "## Observación\n",
    "\n",
    "Si $B=\\{v_1,v_2,\\dots,v_n\\}$ es base de $\\mathbb{K}^n$ formada por autovectores de una matriz $A$, sabemos que $A.v_1=\\lambda_1.v_1$, ..., $A.v_n=\\lambda_n.v_n$\n",
    "\n",
    "Ahora cualquier vector $v\\in\\mathbb{K}^n$ se escribe de manera única como combinación de los vectores de la base (tenemos sus coordenadas en base B) y la transformación \"multiplicar por A\" es lineal:\n",
    "$$v=a_1.v_1+a_2v_2+\\cdots a_n.v_n \\Longrightarrow A.v=A(a_1.v_1+a_2v_2+\\cdots a_n.v_n) \\Longrightarrow A.v=a_1.(A.v_1)+a_2.(A.v_2)+\\cdots a_n.(A.v_n) $$ \n",
    "Usando que son autovectores tenemos que:\n",
    "$$A.v=a_1\\lambda_1.v_1+a_2.\\lambda_2.v_2+\\cdots a_n.\\lambda_n.v_n $$ \n",
    "Así, $$A^2.v=A.A.v=A(a_1\\lambda_1.v_1+a_2.\\lambda_2.v_2+\\cdots a_n.\\lambda_n.v_n)=\\dots= a_1\\lambda_1^2.v_1+a_2.\\lambda_2^2.v_2+\\cdots a_n.\\lambda_n^2.v_n$$\n",
    "Y si seguimos, $$A^n.v=a_1\\lambda_1^n.v_1+a_2.\\lambda_2^n.v_2+\\cdots a_n.\\lambda_n^n.v_n$$\n",
    "\n",
    "### Ejemplo:\n",
    "\n",
    "Por ejemplo, sabiendo que $B=\\{(1,1),(1,2)\\}$ es base de autovectores de autovalores $1$ y $2$ respectivamente y que $(2,0)=4.(1,1)-2(1,2)$ (O sea que $(2,0)_B=(4,-2)$) tenemos por ejemplo que $A^n\\begin{pmatrix} 2 \\\\ 0 \\end{pmatrix}=4.A^n\\begin{pmatrix} 1 \\\\ 1 \\end{pmatrix} -2 A^n\\begin{pmatrix} 1 \\\\ 2 \\end{pmatrix}$. \n",
    "Como son autovectores queda que:\n",
    "$$A^n\\begin{pmatrix} 2 \\\\ 0 \\end{pmatrix}=4.1^n\\begin{pmatrix} 1 \\\\ 1 \\end{pmatrix}+2^n\\begin{pmatrix} 1 \\\\ 2 \\end{pmatrix}$$\n",
    "\n",
    "### Importante:\n",
    "Del lado de la izquierda estamos haciendo potencias de matrices y del lado derecho potencias de NÚMEROS!!\n",
    "\n",
    "## Ejercicio:\n",
    "\n",
    "Diagonalizar la matriz $A=\\begin{pmatrix} \\frac{5}{4} & \\frac{-3}{4} & 0 \\\\ \\frac{-1}{4} & \\frac{7}{4} & 0 \\\\ \\frac{-1}{4} & \\frac{7}{4} & 0 \\end{pmatrix}$, calcular las coordenadas del vector $v=(-1,1,2)$ en la base de autovectores obtenida y usarlo para calcular $A^{20}.v$"
   ]
  },
  {
   "cell_type": "code",
   "execution_count": 10,
   "id": "b10ad15b",
   "metadata": {},
   "outputs": [],
   "source": [
    "A=np.array([[5/4,-3/4,0],[-1/4,7/4,0],[-1/4,7/4,0]])\n",
    "a=np.linalg.eigvals(A)#calcular los autovalores\n",
    "###Calcular los autoespacios asociados\n",
    "E_0 = null_space(A-a[0]*np.eye(3))#Completar\n",
    "E_2 = null_space(A-a[1]*np.eye(3))#Completar\n",
    "E_1 = null_space(A-a[2]*np.eye(3))#Completar\n",
    "### Armamos la matriz C de cambio de base E en la base de autovectores\n",
    "C=np.empty((3,0),int) #Armamos una matriz vacía de 3 filas y ninguna columna\n",
    "C= np.append(C, E_0, axis=1)#A la matriz vacía C le agregamos en la primera columna el avec otenido del primer aval. \n",
    "C= np.append(C, E_2, axis=1)#A la matriz de arriba C le agregamos en la segunda columna el avec otenido del segundo aval.\n",
    "C= np.append(C, E_1, axis=1)#Y acá la tercera columna\n",
    "b=np.array([-1,1,2])\n",
    "coords=np.linalg.solve(C,b) #Buscamos las coordenadas de v en la base de autovectores\n",
    "###Y ahora qué cuenta tendríamos que hacer? Revisar el ejemplo de arriba!!!"
   ]
  },
  {
   "cell_type": "code",
   "execution_count": 27,
   "id": "5e81c1cd",
   "metadata": {},
   "outputs": [],
   "source": [
    "A20v = coords[0]*(a[0]**20*C[:,0])+ coords[1]*(a[1]**20*C[:,1]) + coords[2]*(a[2]**20*C[:,2])"
   ]
  },
  {
   "cell_type": "code",
   "execution_count": 28,
   "id": "86efccb9",
   "metadata": {},
   "outputs": [
    {
     "data": {
      "text/plain": [
       "array([-1048576.,  1048576.,  1048576.])"
      ]
     },
     "execution_count": 28,
     "metadata": {},
     "output_type": "execute_result"
    }
   ],
   "source": [
    "A20v"
   ]
  },
  {
   "cell_type": "code",
   "execution_count": 29,
   "id": "faf84b10",
   "metadata": {},
   "outputs": [
    {
     "data": {
      "text/plain": [
       "array([-1.,  1.,  2.])"
      ]
     },
     "execution_count": 29,
     "metadata": {},
     "output_type": "execute_result"
    }
   ],
   "source": [
    "coords[0]*C[:,0] + coords[1]*C[:,1] + coords[2]* C[:,2]"
   ]
  },
  {
   "cell_type": "code",
   "execution_count": null,
   "id": "61a42519",
   "metadata": {},
   "outputs": [],
   "source": []
  }
 ],
 "metadata": {
  "kernelspec": {
   "display_name": "Python 3 (ipykernel)",
   "language": "python",
   "name": "python3"
  },
  "language_info": {
   "codemirror_mode": {
    "name": "ipython",
    "version": 3
   },
   "file_extension": ".py",
   "mimetype": "text/x-python",
   "name": "python",
   "nbconvert_exporter": "python",
   "pygments_lexer": "ipython3",
   "version": "3.8.10"
  }
 },
 "nbformat": 4,
 "nbformat_minor": 5
}
